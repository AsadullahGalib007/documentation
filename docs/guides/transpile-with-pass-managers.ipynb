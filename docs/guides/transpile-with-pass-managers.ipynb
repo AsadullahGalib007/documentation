{
 "cells": [
  {
   "cell_type": "markdown",
   "id": "7dd44f6d-44f7-4613-bf3c-65a1fb7d100b",
   "metadata": {},
   "source": [
    "# Transpile with pass managers"
   ]
  },
  {
   "cell_type": "markdown",
   "id": "0fcd3656-40ad-4f84-b83e-9e6506dff50e",
   "metadata": {
    "tags": [
     "version-info"
    ]
   },
   "source": [
    "<details>\n",
    "<summary><b>Package versions</b></summary>\n",
    "\n",
    "The code on this page was developed using the following requirements.\n",
    "We recommend using these versions or newer.\n",
    "\n",
    "```\n",
    "qiskit[all]~=1.4.0\n",
    "qiskit-ibm-runtime~=0.36.1\n",
    "```\n",
    "</details>"
   ]
  },
  {
   "cell_type": "markdown",
   "id": "8f4f67e5-efba-45e4-ab42-073f99043c3c",
   "metadata": {},
   "source": [
    "The recommended way to transpile a circuit is to create a staged pass manager and then execute its `run` method with the circuit as input. This page explains how to transpile quantum circuits this way."
   ]
  },
  {
   "cell_type": "markdown",
   "id": "33f59120-5486-4430-8a8f-64e3e75f0667",
   "metadata": {},
   "source": [
    "## What is a (staged) pass manager?\n",
    "\n",
    "In the context of the Qiskit SDK, transpilation refers to the process of transforming an input circuit into a form that is suitable for execution on a quantum device. Transpilation typically occurs in a sequence of steps called transpiler passes. The circuit is processed by each transpiler pass in sequence, with the output of one pass becoming the input to the next. For example, one pass could go through the circuit and merge all consecutive sequences of single-qubit gates, and then the next pass could synthesize these gates into the basis set of the target device. The transpiler passes included with Qiskit are located in the [qiskit.transpiler.passes](/api/qiskit/transpiler_passes) module.\n",
    "\n",
    "A pass manager is an object that stores a list of transpiler passes and can execute them on a circuit. Create a pass manager by initializing a [`PassManager`](/api/qiskit/qiskit.transpiler.PassManager) with a list of transpiler passes. To run the transpilation on a circuit, call the [`run`](/api/qiskit/qiskit.transpiler.PassManager#run) method with a circuit as input.\n",
    "\n",
    "A staged pass manager is a special kind of pass manager that represents a level of abstraction above that of a normal pass manager. While a normal pass manager is composed of several transpiler passes, a staged pass manager is composed of several *pass managers*. This is a useful abstraction because transpilation typically happens in discrete stages, as described in [Transpiler stages](transpiler-stages), with each stage being represented by a pass manager. Staged pass managers are represented by the [`StagedPassManager`](/api/qiskit/qiskit.transpiler.StagedPassManager) class. The rest of this page describes how to create and customize (staged) pass managers."
   ]
  },
  {
   "cell_type": "markdown",
   "id": "cd56fbbe-ef00-4831-b63c-be5fadf878d9",
   "metadata": {},
   "source": [
    "## Generate a preset staged pass manager\n",
    "\n",
    "To create a preset staged pass manager with reasonable defaults, use the [`generate_preset_pass_manager`](/api/qiskit/qiskit.transpiler.generate_preset_pass_manager#qiskit.transpiler.generate_preset_pass_manager) function:"
   ]
  },
  {
   "cell_type": "code",
   "execution_count": 1,
   "id": "ba642e68-81fb-4011-bcf7-251ec7194018",
   "metadata": {},
   "outputs": [],
   "source": [
    "from qiskit.transpiler.preset_passmanagers import generate_preset_pass_manager\n",
    "from qiskit_ibm_runtime import QiskitRuntimeService\n",
    "\n",
    "service = QiskitRuntimeService()\n",
    "backend = service.backend(\"ibm_brisbane\")\n",
    "pass_manager = generate_preset_pass_manager(\n",
    "    optimization_level=3, backend=backend\n",
    ")"
   ]
  },
  {
   "cell_type": "markdown",
   "id": "d24983e4-e0e1-4c17-8204-1348bf5ab896",
   "metadata": {},
   "source": [
    "To transpile a circuit or list of circuits with a pass manager, pass the circuit or list of circuits to the `run` method. Let's do this on a two-qubit circuit consisting of a Hadamard followed by two adjacent CX gates:"
   ]
  },
  {
   "cell_type": "code",
   "execution_count": 2,
   "id": "dcc69b72-e13b-4df6-a51f-a5ef2108bae7",
   "metadata": {},
   "outputs": [
    {
     "data": {
      "image/png": "[encoded data removed]",
      "text/plain": [
       "<Figure size 1092.48x200.667 with 1 Axes>"
      ]
     },
     "execution_count": 2,
     "metadata": {},
     "output_type": "execute_result"
    }
   ],
   "source": [
    "from qiskit import QuantumRegister, QuantumCircuit\n",
    "\n",
    "# Create a circuit\n",
    "qubits = QuantumRegister(2, name=\"q\")\n",
    "circuit = QuantumCircuit(qubits)\n",
    "a, b = qubits\n",
    "circuit.h(a)\n",
    "circuit.cx(a, b)\n",
    "circuit.cx(b, a)\n",
    "\n",
    "# Transpile it by calling the run method of the pass manager\n",
    "transpiled = pass_manager.run(circuit)\n",
    "\n",
    "# Draw it, excluding idle qubits from the diagram\n",
    "transpiled.draw(\"mpl\", idle_wires=False)"
   ]
  },
  {
   "cell_type": "markdown",
   "id": "f8fc4517-12b8-43ec-8786-fab82fcb66cd",
   "metadata": {},
   "source": [
    "See [Transpilation defaults and configuration options](defaults-and-configuration-options) for a description of the possible arguments to the `generate_preset_pass_manager` function. The arguments to `generate_preset_pass_manager` match the arguments to the [`transpile`](/api/qiskit/compiler#qiskit.compiler.transpile) function.\n",
    "\n",
    "<CodeAssistantAdmonition\n",
    "  tagLine=\"Having trouble remembering pass manager details? Try asking Qiskit Code Assistant.\"\n",
    "  prompts={[\n",
    "    \"# Create a pass manager with the highest optimization level\",\n",
    "    \"# Transpile 'circuit' with the highest optimization level\"\n",
    "  ]}\n",
    "/>\n",
    "\n",
    "\n",
    "If the preset pass managers don't fulfill your needs, customize transpilation by creating (staged) pass managers or even transpilation passes. The rest of this page describes how to create pass managers. For instructions on how to create transpilation passes, see [Write your own transpiler pass](custom-transpiler-pass)."
   ]
  },
  {
   "cell_type": "markdown",
   "id": "191ec295-b5ba-41d8-9bd0-8d70147359c7",
   "metadata": {},
   "source": [
    "## Create your own pass manager\n",
    "\n",
    "The [qiskit.transpiler.passes](/api/qiskit/transpiler_passes) module includes many transpiler passes that can be used to create pass managers. To create a pass manager, initialize a `PassManager` with a list of passes. For example, the following code creates a transpiler pass that merges adjacent two-qubit gates and then synthesizes them into a basis of [$R_y$](/api/qiskit/qiskit.circuit.library.RYGate), [$R_z$](/api/qiskit/qiskit.circuit.library.RZGate), and [$R_{xx}$](/api/qiskit/qiskit.circuit.library.RXXGate),  gates."
   ]
  },
  {
   "cell_type": "code",
   "execution_count": 3,
   "id": "77faa30c-2b70-45a5-b161-d214be508cdc",
   "metadata": {},
   "outputs": [],
   "source": [
    "from qiskit.transpiler import PassManager\n",
    "from qiskit.transpiler.passes import (\n",
    "    Collect2qBlocks,\n",
    "    ConsolidateBlocks,\n",
    "    UnitarySynthesis,\n",
    ")\n",
    "\n",
    "basis_gates = [\"rx\", \"ry\", \"rxx\"]\n",
    "translate = PassManager(\n",
    "    [\n",
    "        Collect2qBlocks(),\n",
    "        ConsolidateBlocks(basis_gates=basis_gates),\n",
    "        UnitarySynthesis(basis_gates),\n",
    "    ]\n",
    ")"
   ]
  },
  {
   "cell_type": "markdown",
   "id": "8cf1493d-d4a2-41d4-87f6-687f94e094ab",
   "metadata": {},
   "source": [
    "To demonstrate this pass manager in action, test it on a two-qubit circuit consisting of a Hadamard followed by two adjacent CX gates:"
   ]
  },
  {
   "cell_type": "code",
   "execution_count": 4,
   "id": "bc208935-e63c-461b-90d0-a6f4cabc16b6",
   "metadata": {},
   "outputs": [
    {
     "data": {
      "image/png": "[encoded data removed]",
      "text/plain": [
       "<Figure size 370.906x200.667 with 1 Axes>"
      ]
     },
     "execution_count": 4,
     "metadata": {},
     "output_type": "execute_result"
    }
   ],
   "source": [
    "from qiskit import QuantumRegister, QuantumCircuit\n",
    "\n",
    "qubits = QuantumRegister(2, name=\"q\")\n",
    "circuit = QuantumCircuit(qubits)\n",
    "\n",
    "a, b = qubits\n",
    "circuit.h(a)\n",
    "circuit.cx(a, b)\n",
    "circuit.cx(b, a)\n",
    "\n",
    "circuit.draw(\"mpl\")"
   ]
  },
  {
   "cell_type": "markdown",
   "id": "7a4eb2f3-63ac-41bb-91f0-119e4fbd303f",
   "metadata": {},
   "source": [
    "To run the pass manager on the circuit, call the `run` method."
   ]
  },
  {
   "cell_type": "code",
   "execution_count": 5,
   "id": "adb5c242-5cba-4878-a00d-4ec47737d029",
   "metadata": {},
   "outputs": [
    {
     "data": {
      "image/png": "[encoded data removed]",
      "text/plain": [
       "<Figure size 1875.91x200.667 with 1 Axes>"
      ]
     },
     "execution_count": 5,
     "metadata": {},
     "output_type": "execute_result"
    }
   ],
   "source": [
    "translated = translate.run(circuit)\n",
    "translated.draw(\"mpl\")"
   ]
  },
  {
   "cell_type": "markdown",
   "id": "a13649b3-e22c-4fbd-8ee8-44a1ea47ffac",
   "metadata": {},
   "source": [
    "For a more advanced example that shows how to create a pass manager to implement the error suppression technique known as dynamical decoupling, see [Create a pass manager for dynamical decoupling](dynamical-decoupling-pass-manager)."
   ]
  },
  {
   "cell_type": "markdown",
   "id": "3739fc8a-575e-48c6-a4ec-f2df4363b328",
   "metadata": {},
   "source": [
    "## Create a staged pass manager\n",
    "\n",
    "A `StagedPassManager` is a pass manager that is composed of individual stages, where each stage is defined by a `PassManager` instance. You can create a `StagedPassManager` by specifying the desired stages. For example, the following code creates a staged pass manager with two stages, `init` and `translation`. The `translation` stage is defined by the pass manager that was created previously."
   ]
  },
  {
   "cell_type": "code",
   "execution_count": 6,
   "id": "934e6a01-2fe5-4882-90a3-c53485bd4046",
   "metadata": {},
   "outputs": [],
   "source": [
    "from qiskit.transpiler import PassManager, StagedPassManager\n",
    "from qiskit.transpiler.passes import UnitarySynthesis, Unroll3qOrMore\n",
    "\n",
    "basis_gates = [\"rx\", \"ry\", \"rxx\"]\n",
    "init = PassManager(\n",
    "    [UnitarySynthesis(basis_gates, min_qubits=3), Unroll3qOrMore()]\n",
    ")\n",
    "staged_pm = StagedPassManager(\n",
    "    stages=[\"init\", \"translation\"], init=init, translation=translate\n",
    ")"
   ]
  },
  {
   "cell_type": "markdown",
   "id": "cbf0e3e9-56cd-42b8-bb90-bc2645ef79c6",
   "metadata": {},
   "source": [
    "There is no limit on the number of stages you can put in a staged pass manager.\n",
    "\n",
    "Another useful way to create a staged pass manager is to begin with a preset staged pass manager and then swap out some of the stages. For example, the following code generates a preset pass manager with optimization level 3, and then specifies a custom `pre_layout` stage."
   ]
  },
  {
   "cell_type": "code",
   "execution_count": 7,
   "id": "41929693-eff2-4389-a127-cb299f021f6d",
   "metadata": {},
   "outputs": [],
   "source": [
    "import numpy as np\n",
    "from qiskit.circuit.library import HGate, PhaseGate, RXGate, TdgGate, TGate\n",
    "from qiskit.transpiler.passes import InverseCancellation\n",
    "\n",
    "pass_manager = generate_preset_pass_manager(3, backend)\n",
    "inverse_gate_list = [\n",
    "    HGate(),\n",
    "    (RXGate(np.pi / 4), RXGate(-np.pi / 4)),\n",
    "    (PhaseGate(np.pi / 4), PhaseGate(-np.pi / 4)),\n",
    "    (TGate(), TdgGate()),\n",
    "]\n",
    "logical_opt = PassManager(\n",
    "    [\n",
    "        InverseCancellation(inverse_gate_list),\n",
    "    ]\n",
    ")\n",
    "\n",
    "# Add pre-layout stage to run extra logical optimization\n",
    "pass_manager.pre_layout = logical_opt"
   ]
  },
  {
   "cell_type": "markdown",
   "id": "b1b35114-458e-4ac6-9829-9bbeabfa2d17",
   "metadata": {},
   "source": [
    "The [stage generator functions](/api/qiskit/transpiler_preset#stage-generator-functions) might be useful for constructing custom pass managers.\n",
    "They generate stages that provide common functionality used in many pass managers.\n",
    "For example, [`generate_embed_passmanager`](/api/qiskit/transpiler_preset#qiskit.transpiler.preset_passmanagers.generate_embed_passmanager) can be used to generate a stage\n",
    "to \"embed\" a selected initial `Layout` from a layout pass to the specified target device.\n",
    "\n",
    "## Next steps\n",
    "\n",
    "<Admonition type=\"tip\" title=\"Recommendation\">\n",
    "    - [Write a custom transpiler pass](custom-transpiler-pass).\n",
    "    - [Create a pass manager for dynamical decoupling](dynamical-decoupling-pass-manager).\n",
    "    - To learn more about the `generate_preset_passmanager` function, see the [Transpilation default settings and configuration options](defaults-and-configuration-options) topic.\n",
    "    - Try the [Submit transpiled circuits](https://learning.quantum.ibm.com/tutorial/submit-transpiled-circuits) tutorial.\n",
    "    - See the [Transpile API documentation.](https://docs.quantum-computing.ibm.com/api/qiskit/transpiler)\n",
    "</Admonition>"
   ]
  }
 ],
 "metadata": {
  "celltoolbar": "Raw Cell Format",
  "description": "How to transpile quantum circuits using pass managers in Qiskit.",
  "kernelspec": {
   "display_name": "qiskit-docs-test-2.0",
   "language": "python",
   "name": "python3"
  },
  "language_info": {
   "codemirror_mode": {
    "name": "ipython",
    "version": 3
   },
   "file_extension": ".py",
   "mimetype": "text/x-python",
   "name": "python",
   "nbconvert_exporter": "python",
   "pygments_lexer": "ipython3",
   "version": "3.12.8"
  },
  "title": "Transpile with pass managers"
 },
 "nbformat": 4,
 "nbformat_minor": 4
}
