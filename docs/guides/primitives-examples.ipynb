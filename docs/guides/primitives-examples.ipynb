{
 "cells": [
  {
   "cell_type": "markdown",
   "id": "915d2c66-aed3-47f1-a405-144348514dd3",
   "metadata": {},
   "source": [
    "# Primitives examples\n",
    "\n",
    "The examples in this section illustrate some common ways to use primitives. Before running these examples, follow the instructions in [Install and set up.](install-qiskit)\n",
    "\n",
    "<Admonition type=\"note\">\n",
    "    These examples all use the primitives from Qiskit Runtime, but you could use the base primitives instead.\n",
    "</Admonition>\n",
    "\n",
    "## Estimator examples\n",
    "\n",
    "Efficiently calculate and interpret expectation values of the quantum operators required for many algorithms with Estimator. Explore uses in molecular modeling, machine learning, and complex optimization problems.\n",
    "\n",
    "### Run a single experiment\n",
    "\n",
    "Use Estimator to determine the expectation value of a single circuit-observable pair."
   ]
  },
  {
   "cell_type": "code",
   "execution_count": 1,
   "id": "88d9d34b-2903-48b9-8f3c-398da05b487b",
   "metadata": {},
   "outputs": [
    {
     "name": "stdout",
     "output_type": "stream",
     "text": [
      " > Expectation value: -0.22127659574468084\n",
      " > Metadata: {'shots': 4096, 'target_precision': 0.015625, 'circuit_metadata': {}, 'resilience': {}, 'num_randomizations': 32}\n"
     ]
    }
   ],
   "source": [
    "import numpy as np\n",
    "from qiskit.circuit.library import IQP\n",
    "from qiskit.transpiler.preset_passmanagers import generate_preset_pass_manager\n",
    "from qiskit.quantum_info import SparsePauliOp, random_hermitian\n",
    "from qiskit_ibm_runtime import QiskitRuntimeService, EstimatorV2 as Estimator\n",
    "\n",
    "n_qubits = 50\n",
    "\n",
    "service = QiskitRuntimeService()\n",
    "backend = service.least_busy(\n",
    "    operational=True, simulator=False, min_num_qubits=n_qubits\n",
    ")\n",
    "\n",
    "mat = np.real(random_hermitian(n_qubits, seed=1234))\n",
    "circuit = IQP(mat)\n",
    "observable = SparsePauliOp(\"Z\" * 50)\n",
    "\n",
    "pm = generate_preset_pass_manager(backend=backend, optimization_level=1)\n",
    "isa_circuit = pm.run(circuit)\n",
    "isa_observable = observable.apply_layout(isa_circuit.layout)\n",
    "\n",
    "estimator = Estimator(mode=backend)\n",
    "job = estimator.run([(isa_circuit, isa_observable)])\n",
    "result = job.result()\n",
    "\n",
    "print(f\" > Expectation value: {result[0].data.evs}\")\n",
    "print(f\" > Metadata: {result[0].metadata}\")"
   ]
  },
  {
   "cell_type": "markdown",
   "id": "191eb3ee-b0d7-4710-90d6-1839ab51719e",
   "metadata": {},
   "source": [
    "### Run multiple experiments in a single job\n",
    "\n",
    "Use Estimator to determine the expectation values of multiple circuit-observable pairs."
   ]
  },
  {
   "cell_type": "code",
   "execution_count": 2,
   "id": "6bd60dea-dde5-48a6-9b35-7d90a48692a1",
   "metadata": {},
   "outputs": [
    {
     "name": "stdout",
     "output_type": "stream",
     "text": [
      ">>> Expectation values for PUB 0: 0.21030927835051547\n",
      ">>> Standard errors for PUB 0: 0.11287983317881108\n",
      ">>> Expectation values for PUB 1: -0.20981842636180228\n",
      ">>> Standard errors for PUB 1: 0.18300226543012751\n",
      ">>> Expectation values for PUB 2: -0.1362776025236593\n",
      ">>> Standard errors for PUB 2: 0.1556157713292338\n"
     ]
    }
   ],
   "source": [
    "import numpy as np\n",
    "from qiskit.circuit.library import IQP\n",
    "from qiskit.transpiler.preset_passmanagers import generate_preset_pass_manager\n",
    "from qiskit.quantum_info import SparsePauliOp, random_hermitian\n",
    "from qiskit_ibm_runtime import QiskitRuntimeService, EstimatorV2 as Estimator\n",
    "\n",
    "n_qubits = 50\n",
    "\n",
    "service = QiskitRuntimeService()\n",
    "backend = service.least_busy(\n",
    "    operational=True, simulator=False, min_num_qubits=n_qubits\n",
    ")\n",
    "\n",
    "rng = np.random.default_rng()\n",
    "mats = [np.real(random_hermitian(n_qubits, seed=rng)) for _ in range(3)]\n",
    "\n",
    "pubs = []\n",
    "circuits = [IQP(mat) for mat in mats]\n",
    "observables = [\n",
    "    SparsePauliOp(\"X\" * 50),\n",
    "    SparsePauliOp(\"Y\" * 50),\n",
    "    SparsePauliOp(\"Z\" * 50),\n",
    "]\n",
    "\n",
    "# Get ISA circuits\n",
    "pm = generate_preset_pass_manager(optimization_level=1, backend=backend)\n",
    "\n",
    "for qc, obs in zip(circuits, observables):\n",
    "    isa_circuit = pm.run(qc)\n",
    "    isa_obs = obs.apply_layout(isa_circuit.layout)\n",
    "    pubs.append((isa_circuit, isa_obs))\n",
    "\n",
    "estimator = Estimator(backend)\n",
    "job = estimator.run(pubs)\n",
    "job_result = job.result()\n",
    "\n",
    "for idx in range(len(pubs)):\n",
    "    pub_result = job_result[idx]\n",
    "    print(f\">>> Expectation values for PUB {idx}: {pub_result.data.evs}\")\n",
    "    print(f\">>> Standard errors for PUB {idx}: {pub_result.data.stds}\")"
   ]
  },
  {
   "cell_type": "markdown",
   "id": "36995a0d-a912-4a55-8ed5-20525d248237",
   "metadata": {},
   "source": [
    "### Run parameterized circuits\n",
    "\n",
    "Use Estimator to run three experiments in a single job, leveraging parameter values to increase circuit reusability."
   ]
  },
  {
   "cell_type": "code",
   "execution_count": 3,
   "id": "c80000d6-b8fe-419c-9d4c-874190b9b8b7",
   "metadata": {},
   "outputs": [
    {
     "name": "stdout",
     "output_type": "stream",
     "text": [
      ">>> Expectation values: [[ 0.99673974  0.94632751  0.79613672  0.57064135  0.29473375 -0.02551988\n",
      "  -0.31251399 -0.59072257 -0.82333004 -0.95594976 -0.99025518 -0.9454908\n",
      "  -0.79048888 -0.56666694 -0.28615739  0.02217301  0.31209563  0.61394148\n",
      "   0.82102906  0.95030192  0.99569385]\n",
      " [ 0.01275994  0.32171789  0.60682938  0.82688609  0.96117925  1.00259677\n",
      "   0.93984295  0.79550918  0.56520268  0.28720329  0.00648456 -0.31816184\n",
      "  -0.6055743  -0.82249332 -0.95825074 -1.00573446 -0.93879706 -0.80471307\n",
      "  -0.56645776 -0.3164884   0.02280055]\n",
      " [-0.02426481 -0.30582025 -0.60097236 -0.81621794 -0.95281207 -0.99945908\n",
      "  -0.95364879 -0.80094784 -0.58047278 -0.29577964  0.00669374  0.32088117\n",
      "   0.58779406  0.81203435  0.95197536  0.99548467  0.95260289  0.79864687\n",
      "   0.58256457  0.32004445  0.00753046]\n",
      " [ 1.0053161   0.95427633  0.80617733  0.59030421  0.29410621 -0.01861696\n",
      "  -0.30644779 -0.6137323  -0.81998317 -0.95260289 -1.00050497 -0.94067967\n",
      "  -0.78379513 -0.57168724 -0.29410621  0.02238219  0.31335071  0.59741631\n",
      "   0.81224353  0.95511305  1.00552528]]\n",
      ">>> Standard errors: [[0.00401935 0.00434941 0.00759103 0.00924687 0.00710554 0.00937562\n",
      "  0.0094791  0.00963976 0.00607719 0.00380543 0.00336312 0.00531962\n",
      "  0.00756573 0.00898262 0.01271969 0.00775068 0.00833605 0.00655861\n",
      "  0.00619825 0.00437439 0.00365526]\n",
      " [0.01041228 0.01104282 0.00851037 0.00520608 0.00475845 0.00356684\n",
      "  0.00536872 0.00590986 0.01108765 0.01024194 0.01021766 0.00952592\n",
      "  0.00777596 0.00599531 0.00487706 0.0030075  0.00528307 0.00857498\n",
      "  0.0086533  0.00995367 0.0124576 ]\n",
      " [0.01196451 0.01223874 0.0087681  0.00687794 0.00425562 0.00383852\n",
      "  0.00507557 0.00637843 0.00738483 0.01173796 0.01227582 0.00985337\n",
      "  0.00803735 0.00429542 0.00463055 0.00342946 0.00507458 0.00690674\n",
      "  0.00799006 0.01127986 0.01256384]\n",
      " [0.00318292 0.00449487 0.0060843  0.00737946 0.01066559 0.01049758\n",
      "  0.01123129 0.00961421 0.00546145 0.00454705 0.00287552 0.00408346\n",
      "  0.00639095 0.0076255  0.010925   0.01193653 0.01113877 0.00827845\n",
      "  0.00718262 0.00516994 0.00311077]]\n",
      ">>> Metadata: {'shots': 10016, 'target_precision': 0.01, 'circuit_metadata': {}, 'resilience': {}, 'num_randomizations': 32}\n"
     ]
    }
   ],
   "source": [
    "import numpy as np\n",
    "\n",
    "from qiskit.circuit import QuantumCircuit, Parameter\n",
    "from qiskit.quantum_info import SparsePauliOp\n",
    "from qiskit.transpiler.preset_passmanagers import generate_preset_pass_manager\n",
    "from qiskit_ibm_runtime import QiskitRuntimeService, EstimatorV2 as Estimator\n",
    "\n",
    "service = QiskitRuntimeService()\n",
    "backend = service.least_busy(operational=True, simulator=False)\n",
    "\n",
    "# Step 1: Map classical inputs to a quantum problem\n",
    "theta = Parameter(\"θ\")\n",
    "\n",
    "chsh_circuit = QuantumCircuit(2)\n",
    "chsh_circuit.h(0)\n",
    "chsh_circuit.cx(0, 1)\n",
    "chsh_circuit.ry(theta, 0)\n",
    "\n",
    "number_of_phases = 21\n",
    "phases = np.linspace(0, 2 * np.pi, number_of_phases)\n",
    "individual_phases = [[ph] for ph in phases]\n",
    "\n",
    "ZZ = SparsePauliOp.from_list([(\"ZZ\", 1)])\n",
    "ZX = SparsePauliOp.from_list([(\"ZX\", 1)])\n",
    "XZ = SparsePauliOp.from_list([(\"XZ\", 1)])\n",
    "XX = SparsePauliOp.from_list([(\"XX\", 1)])\n",
    "ops = [ZZ, ZX, XZ, XX]\n",
    "\n",
    "# Step 2: Optimize problem for quantum execution.\n",
    "\n",
    "pm = generate_preset_pass_manager(backend=backend, optimization_level=1)\n",
    "chsh_isa_circuit = pm.run(chsh_circuit)\n",
    "isa_observables = [\n",
    "    operator.apply_layout(chsh_isa_circuit.layout) for operator in ops\n",
    "]\n",
    "\n",
    "# Step 3: Execute using Qiskit primitives.\n",
    "\n",
    "# Reshape observable array for broadcasting\n",
    "reshaped_ops = np.fromiter(isa_observables, dtype=object)\n",
    "reshaped_ops = reshaped_ops.reshape((4, 1))\n",
    "\n",
    "estimator = Estimator(backend, options={\"default_shots\": int(1e4)})\n",
    "job = estimator.run([(chsh_isa_circuit, reshaped_ops, individual_phases)])\n",
    "# Get results for the first (and only) PUB\n",
    "pub_result = job.result()[0]\n",
    "print(f\">>> Expectation values: {pub_result.data.evs}\")\n",
    "print(f\">>> Standard errors: {pub_result.data.stds}\")\n",
    "print(f\">>> Metadata: {pub_result.metadata}\")"
   ]
  },
  {
   "cell_type": "markdown",
   "id": "c7978aa5-da67-4f93-927d-277802ae5437",
   "metadata": {},
   "source": [
    "### Use sessions and advanced options\n",
    "\n",
    "Explore sessions and advanced options to optimize circuit performance on QPUs.\n",
    "\n",
    "<CloudContent>\n",
    "<Admonition type=\"caution\">\n",
    "The following code block will return an error for users on the Open Plan, because it uses sessions. Workloads on the Open Plan can run only in [job mode](/guides/execution-modes#job-mode) or [batch mode](/guides/execution-modes#batch-mode).\n",
    "</Admonition>\n",
    "</CloudContent>"
   ]
  },
  {
   "cell_type": "code",
   "execution_count": 4,
   "id": "cbe2bed7-e5c1-4264-ac42-1c267ff1af3b",
   "metadata": {},
   "outputs": [
    {
     "name": "stdout",
     "output_type": "stream",
     "text": [
      " > Expectation value: 0.16927322907083717\n",
      " > Metadata: {'shots': 4096, 'target_precision': 0.015625, 'circuit_metadata': {}, 'resilience': {}, 'num_randomizations': 32}\n",
      " > Another Expectation value: 0.04192472606002858\n",
      " > More Metadata: {'shots': 4096, 'target_precision': 0.015625, 'circuit_metadata': {}, 'resilience': {}, 'num_randomizations': 32}\n"
     ]
    }
   ],
   "source": [
    "import numpy as np\n",
    "from qiskit.circuit.library import IQP\n",
    "from qiskit.transpiler.preset_passmanagers import generate_preset_pass_manager\n",
    "from qiskit.quantum_info import SparsePauliOp, random_hermitian\n",
    "from qiskit_ibm_runtime import (\n",
    "    QiskitRuntimeService,\n",
    "    Session,\n",
    "    EstimatorV2 as Estimator,\n",
    ")\n",
    "\n",
    "n_qubits = 50\n",
    "\n",
    "service = QiskitRuntimeService()\n",
    "backend = service.least_busy(\n",
    "    operational=True, simulator=False, min_num_qubits=n_qubits\n",
    ")\n",
    "\n",
    "rng = np.random.default_rng(1234)\n",
    "mat = np.real(random_hermitian(n_qubits, seed=rng))\n",
    "circuit = IQP(mat)\n",
    "mat = np.real(random_hermitian(n_qubits, seed=rng))\n",
    "another_circuit = IQP(mat)\n",
    "observable = SparsePauliOp(\"X\" * 50)\n",
    "another_observable = SparsePauliOp(\"Y\" * 50)\n",
    "\n",
    "pm = generate_preset_pass_manager(optimization_level=1, backend=backend)\n",
    "isa_circuit = pm.run(circuit)\n",
    "another_isa_circuit = pm.run(another_circuit)\n",
    "isa_observable = observable.apply_layout(isa_circuit.layout)\n",
    "another_isa_observable = another_observable.apply_layout(\n",
    "    another_isa_circuit.layout\n",
    ")\n",
    "\n",
    "with Session(backend=backend) as session:\n",
    "    estimator = Estimator(mode=session)\n",
    "\n",
    "    estimator.options.resilience_level = 1\n",
    "\n",
    "    job = estimator.run([(isa_circuit, isa_observable)])\n",
    "    another_job = estimator.run(\n",
    "        [(another_isa_circuit, another_isa_observable)]\n",
    "    )\n",
    "    result = job.result()\n",
    "    another_result = another_job.result()\n",
    "\n",
    "    # first job\n",
    "    print(f\" > Expectation value: {result[0].data.evs}\")\n",
    "    print(f\" > Metadata: {result[0].metadata}\")\n",
    "\n",
    "    # second job\n",
    "    print(f\" > Another Expectation value: {another_result[0].data.evs}\")\n",
    "    print(f\" > More Metadata: {another_result[0].metadata}\")"
   ]
  },
  {
   "cell_type": "markdown",
   "id": "3a60b53b-418a-44fe-92d2-b1ba5d967c84",
   "metadata": {},
   "source": [
    "<span id=\"sampler-examples\"></span>\n",
    "## Sampler examples\n",
    "\n",
    "Generate entire error-mitigated quasi-probability distributions sampled from quantum circuit outputs. Leverage Sampler’s capabilities for search and classification algorithms like Grover’s and QVSM.\n",
    "\n",
    "### Run a single experiment\n",
    "\n",
    "Use Sampler to return the measurement outcome as bitstrings or counts of a single circuit."
   ]
  },
  {
   "cell_type": "code",
   "execution_count": 5,
   "id": "012cfeea-3af3-46bb-9e64-15bb052bbcd2",
   "metadata": {
    "scrolled": true
   },
   "outputs": [
    {
     "name": "stdout",
     "output_type": "stream",
     "text": [
      " > First ten results: ['0010111010000111101000110011010010010100111000000000000011001110011101000001111110001110011000110110000100000011110001001100101', '1000111011000001110101001011111000000111100001000011001011010111011110100010010010011000011101100110101100001011000100100100101', '0011111110001110000011010101110100000110011101000100100011100001000010111100101001100011000000000110000110011100101001100110001', '1001011110000101110110000110110001100000000011100000111011110110110001100110100110000100110001001101000000000010100000111100010', '0101101011111101110011111110010000110110011001101011001001100110100010011001011010100111100001100110111110001000111101010110001', '1001001110000000110101000001110001000100111100111110101100001110001000000000100111101011000010110110000100110110001001110100000', '1101001001111011110110110111100110001000011001010001101111010111100100110111101010010101111000100110010011011111111101000100001', '1011010011001100110010011111000101001101111011011001000100010000101110101011011011001101000100010100010001011010100000100010000', '1011010000000001110010010111111110010101011001101000000001010000000100101111101000000110000101101110100000010011101100000000000', '0001100101101011110111010001110000110011111000001010011000000010001101101000100000001010111111110110011010000001010011110010100']\n"
     ]
    }
   ],
   "source": [
    "import numpy as np\n",
    "from qiskit.circuit.library import IQP\n",
    "from qiskit.transpiler.preset_passmanagers import generate_preset_pass_manager\n",
    "from qiskit.quantum_info import random_hermitian\n",
    "from qiskit_ibm_runtime import QiskitRuntimeService, SamplerV2 as Sampler\n",
    "\n",
    "n_qubits = 127\n",
    "\n",
    "service = QiskitRuntimeService()\n",
    "backend = service.least_busy(\n",
    "    operational=True, simulator=False, min_num_qubits=n_qubits\n",
    ")\n",
    "\n",
    "mat = np.real(random_hermitian(n_qubits, seed=1234))\n",
    "circuit = IQP(mat)\n",
    "circuit.measure_all()\n",
    "\n",
    "pm = generate_preset_pass_manager(backend=backend, optimization_level=1)\n",
    "isa_circuit = pm.run(circuit)\n",
    "\n",
    "sampler = Sampler(backend)\n",
    "job = sampler.run([isa_circuit])\n",
    "result = job.result()\n",
    "\n",
    "# Get results for the first (and only) PUB\n",
    "pub_result = result[0]\n",
    "\n",
    "print(f\" > First ten results: {pub_result.data.meas.get_bitstrings()[:10]}\")"
   ]
  },
  {
   "cell_type": "markdown",
   "id": "a5c3d65c-9d14-4b4e-800c-6e3e231e335c",
   "metadata": {},
   "source": [
    "### Run multiple experiments in a single job\n",
    "\n",
    "Use Sampler to return the measurement outcome as bitstrings or counts of multiple circuits in one job."
   ]
  },
  {
   "cell_type": "code",
   "execution_count": 6,
   "id": "b5372b7e-8bc2-4f2e-8f65-03dcd368faeb",
   "metadata": {},
   "outputs": [
    {
     "name": "stdout",
     "output_type": "stream",
     "text": [
      " > First ten results for pub 0: ['0110100001010011111001000010011110011111010001100100011100011000111000111011110010011001010000001011001101110101100110000000100', '1010101111101100101010111000111111000110000010100101001000110000011010110011000000010000001001001000101000100100100100001010001', '0110011011001000010110101010111111111001111100101101100000100000111100100110111010011010001000000000101011101100101100000000100', '1011100010001101011000001111111100001001000001100011000100000010010000100000011010011010100001000010001011010100110100000101000', '0001001001000101011100001110110000000100000000000011110010010111011110110011100001010000001010000010000001000000111000000100001', '0000101000010001100101110110001101110010000100101110000011011010111000111110101110010010000011000000010111011101001100101110000', '1011011010001010000011101110111110001000000101100111001011001110011111000100101000001101101100001111101010110000110000101010000', '1001111010100100100100101001111010010000100000101110011000111011100101100010001010001010110011110000110111100010000100000010011', '1000010011000100010010110100010101111100010100000111010111101101110010011001000110001111010000001101100110111100111000100000011', '1000101001100011011100111001100011011100101111101000101001011110110100101001001010110110111011001001100001100010110000000100000']\n",
      " > First ten results for pub 1: ['0010000011001011110001101100010100110001101001111100000111000111010010100010100100111001000001000101000000000110101111011101110', '0100011111001101001100110111001010101111110000001000010110100010100011100001010001001000010011001100011101001010101011000000010', '1000001111010101010001100101011100011111011100001101011110001100000100110110010100100001101000100100101010010101000001100100100', '0011011010011010010000000011010010110010001111111000100101010110010011100000011100101100010101100101100100010001001000101001100', '1101110110000001001001001100011001010010110111000101000100000100111010010110001111101101001110111000111100100011000100000010110', '0111000101010001010001111101110101101001001110111101001100110011001110110011100001100001010100100011110000100101001000010100100', '1010011111111110101001110010010000000101101100110000001011011000011110111010001111111111000010001111100010001011000010000101110', '1111010010001000110000111000101010000011000101110101000110111010011101101000001100101000010010000100100011000001100011011001101', '1001110100011100000101011000011100001100000011011100101010100001001111011011010000111100001100101111100000010001100000110011001', '1111010000000010010110010111110100010010000010110000010010000001110001010100110011001010010011100111011100100000100011110100110']\n",
      " > First ten results for pub 2: ['0100101010111101110010111110010010010011000001110001010101101011111010110011010110010100000010110010011001010001010010000011011', '0111011101000010100101010101110011011010010111010100010101101001110100011011100011000000101010010001000010111000010001111110000', '1110000100101111000101011001000100011110101010100010000111101101001010010001011000001101011010000111001000011100010000010100101', '1011100000001011000011100010001000000011000100000110010001100111110011110110010110011100010111010110110101011010010101100001110', '1010011111110110000000011001111010001011000111001001011010010111011010001001110100111101000011010000011000100100001100110001000', '0011011010011110010110001111110011110110000111100110001010011010010000000001011011010000010010000000100011001000000001011110111', '1001110010001001100000001010000000010110000010010010000100101010100110110100101000000100001010000110100100000001010100000111010', '0000011000000101010000100010001110110100001000100000000001101000111011100101001000011000100000010100101110000100001100110101011', '1100110011100011010110000100101001101001001101100000000011010110100000000010001000001001101011101001011010001111000110000111010', '0101111011110000100011000000000111101101100111110110010110010010101010100110101000010101011011100110010010001100010001000100000']\n"
     ]
    }
   ],
   "source": [
    "import numpy as np\n",
    "from qiskit.circuit.library import IQP\n",
    "from qiskit.transpiler.preset_passmanagers import generate_preset_pass_manager\n",
    "from qiskit.quantum_info import random_hermitian\n",
    "from qiskit_ibm_runtime import QiskitRuntimeService, SamplerV2 as Sampler\n",
    "\n",
    "n_qubits = 127\n",
    "\n",
    "service = QiskitRuntimeService()\n",
    "backend = service.least_busy(\n",
    "    operational=True, simulator=False, min_num_qubits=n_qubits\n",
    ")\n",
    "\n",
    "rng = np.random.default_rng()\n",
    "mats = [np.real(random_hermitian(n_qubits, seed=rng)) for _ in range(3)]\n",
    "circuits = [IQP(mat) for mat in mats]\n",
    "for circuit in circuits:\n",
    "    circuit.measure_all()\n",
    "\n",
    "pm = generate_preset_pass_manager(backend=backend, optimization_level=1)\n",
    "isa_circuits = pm.run(circuits)\n",
    "\n",
    "sampler = Sampler(mode=backend)\n",
    "job = sampler.run(isa_circuits)\n",
    "result = job.result()\n",
    "\n",
    "for idx, pub_result in enumerate(result):\n",
    "    print(\n",
    "        f\" > First ten results for pub {idx}: {pub_result.data.meas.get_bitstrings()[:10]}\"\n",
    "    )"
   ]
  },
  {
   "cell_type": "markdown",
   "id": "36337791-94ff-4ed5-aa26-808c470eb728",
   "metadata": {},
   "source": [
    "### Run parameterized circuits\n",
    "\n",
    "Run several experiments in a single job, leveraging parameter values to increase circuit reusability."
   ]
  },
  {
   "cell_type": "code",
   "execution_count": 7,
   "id": "ea6c113e-15db-47a1-be34-459e68d1db4e",
   "metadata": {},
   "outputs": [
    {
     "name": "stdout",
     "output_type": "stream",
     "text": [
      " >> First ten results for the meas output register: ['0111001110000111100111010110110010011111000000001011000000101110000000110111010011000101001110100011010010000000011010110011111', '1011000101110011111011000110100111110011000001010101000111111011111000101100000100001110100100010000010100001101001010110000110', '0010000000110101011111000101000010100010100000011100000000010011101011100110101001000100001110100010011101000000000110110001101', '0101011100000101011110100101010010100001000000100111001011111110110110100101000110001110111101100100110001111100001111101000101', '0010111000000011000000101000100001110101000001000000100111111100011111100100000110010000001101100101011101111110010011011101101', '0111110011011100001111100010110110101110001010001010100110001111000000101110000100011101000100100010010100101010011000111100011', '0000101000111011001011000010110101100101100000010011001000101000101011001111011100101001010001010100001100111100010011111000101', '0101110010010111111001000110100111101110010001011001001110101110101001010000001111011011111101010101101100100101100110010101111', '0001100000110110100111010000000001010010100011111110101010011100101001000011111011001011100110010100011101011001010000101100011', '0011110100011001110001000111110110110101000011010101110101101100100100100101111000100001001111000011101111111100000011010110100']\n"
     ]
    }
   ],
   "source": [
    "import numpy as np\n",
    "from qiskit.circuit.library import RealAmplitudes\n",
    "from qiskit.transpiler.preset_passmanagers import generate_preset_pass_manager\n",
    "from qiskit_ibm_runtime import QiskitRuntimeService, SamplerV2 as Sampler\n",
    "\n",
    "n_qubits = 127\n",
    "\n",
    "service = QiskitRuntimeService()\n",
    "backend = service.least_busy(\n",
    "    operational=True, simulator=False, min_num_qubits=n_qubits\n",
    ")\n",
    "\n",
    "# Step 1: Map classical inputs to a quantum problem\n",
    "circuit = RealAmplitudes(num_qubits=n_qubits, reps=2)\n",
    "circuit.measure_all()\n",
    "\n",
    "# Define three sets of parameters for the circuit\n",
    "rng = np.random.default_rng(1234)\n",
    "parameter_values = [\n",
    "    rng.uniform(-np.pi, np.pi, size=circuit.num_parameters) for _ in range(3)\n",
    "]\n",
    "\n",
    "# Step 2: Optimize problem for quantum execution.\n",
    "\n",
    "pm = generate_preset_pass_manager(backend=backend, optimization_level=1)\n",
    "isa_circuit = pm.run(circuit)\n",
    "\n",
    "# Step 3: Execute using Qiskit primitives.\n",
    "sampler = Sampler(backend)\n",
    "job = sampler.run([(isa_circuit, parameter_values)])\n",
    "result = job.result()\n",
    "# Get results for the first (and only) PUB\n",
    "pub_result = result[0]\n",
    "# Get counts from the classical register \"meas\".\n",
    "print(\n",
    "    f\" >> First ten results for the meas output register: {pub_result.data.meas.get_bitstrings()[:10]}\"\n",
    ")"
   ]
  },
  {
   "cell_type": "markdown",
   "id": "1f144ac9-5f64-4aca-8cc4-8cf9362c5666",
   "metadata": {},
   "source": [
    "### Use sessions and advanced options\n",
    "\n",
    "Explore sessions and advanced options to optimize circuit performance on QPUs.\n",
    "\n",
    "<CloudContent>\n",
    "<Admonition type=\"caution\">\n",
    "The following code block will return an error for users on the Open Plan, because it uses sessions. Workloads on the Open Plan can run only in [job mode](/guides/execution-modes#job-mode) or [batch mode](/guides/execution-modes#batch-mode).\n",
    "</Admonition>\n",
    "</CloudContent>"
   ]
  },
  {
   "cell_type": "code",
   "execution_count": 8,
   "id": "d6248dcb-2ba9-4a06-a9ef-727db7092093",
   "metadata": {
    "scrolled": true
   },
   "outputs": [
    {
     "name": "stdout",
     "output_type": "stream",
     "text": [
      " > The first ten measurement results of job 1: ['1000101011111010100001000110111101000100010000010010101101010100110000000111001100000001111101000010101000010110111010001101000', '0100010100011010110010000011010110001010001101011111101000000110111010110111110101111101100010000010011100010100000000100111001', '1000100010010101011011011010111100001000100000100010101011011100011100110010111011101000010110000110100001010110100100000101001', '1001001000101111011111000010001100000001111000001111010101000111001011100000111011110000000100101011111000000001000011001100000', '1001010110000101010000000010100100010000000000100111000010010000011010100011011001110010000000101111000011000110000001000101000', '0001111000011110001110101000101110001100000111000110001010010000001100000101001110000100001011100011001001001011110000100101000', '0100111101100000101001100010110010101010110010001010101000110001010000100111000101001101001100100010000001001000100010010010000', '0100010101010111110101111100110000011010000101001011100110000000111000011110100100010100001000000111000000101101010000000101000', '0100000110000100000000111111010100110100110110100111000101011000000010000010011010010101000100001011100100011100101101000001001', '1100100000101100111011100110000000001010101100010100001001010010110000000100001111011001101001101110000100111000100100100101001']\n"
     ]
    }
   ],
   "source": [
    "import numpy as np\n",
    "from qiskit.circuit.library import IQP\n",
    "from qiskit.quantum_info import random_hermitian\n",
    "from qiskit.transpiler.preset_passmanagers import generate_preset_pass_manager\n",
    "from qiskit_ibm_runtime import Session, SamplerV2 as Sampler\n",
    "from qiskit_ibm_runtime import QiskitRuntimeService\n",
    "\n",
    "n_qubits = 127\n",
    "\n",
    "service = QiskitRuntimeService()\n",
    "backend = service.least_busy(\n",
    "    operational=True, simulator=False, min_num_qubits=n_qubits\n",
    ")\n",
    "\n",
    "rng = np.random.default_rng(1234)\n",
    "mat = np.real(random_hermitian(n_qubits, seed=rng))\n",
    "circuit = IQP(mat)\n",
    "circuit.measure_all()\n",
    "mat = np.real(random_hermitian(n_qubits, seed=rng))\n",
    "another_circuit = IQP(mat)\n",
    "another_circuit.measure_all()\n",
    "\n",
    "pm = generate_preset_pass_manager(backend=backend, optimization_level=1)\n",
    "isa_circuit = pm.run(circuit)\n",
    "another_isa_circuit = pm.run(another_circuit)\n",
    "\n",
    "with Session(backend=backend) as session:\n",
    "    sampler = Sampler(mode=session)\n",
    "    job = sampler.run([isa_circuit])\n",
    "    another_job = sampler.run([another_isa_circuit])\n",
    "    result = job.result()\n",
    "    another_result = another_job.result()\n",
    "\n",
    "# first job\n",
    "\n",
    "print(\n",
    "    f\" > The first ten measurement results of job 1: {result[0].data.meas.get_bitstrings()[:10]}\"\n",
    ")"
   ]
  },
  {
   "cell_type": "code",
   "execution_count": 9,
   "id": "e81eb3e4-632a-49da-a926-6e79f8640867",
   "metadata": {},
   "outputs": [
    {
     "name": "stdout",
     "output_type": "stream",
     "text": [
      " > The first ten measurement results of job 2: ['1011010000101011010010010110011110000100101100000000001110000110010100001100001100010010011000111100100011000101000101000100001', '0011010011100110111001011010011110110000110001010001000100011001110110000100111100110010010110010101000010110001010100011000010', '1100011100000110001100100000100000001000000110000001001111011010111100100000011010010010000101100000001111111001010111010100000', '0000011011010100000110110010010110101010101010000101100000100111000101010100000101001100111000010001011101110011011101100100001', '0101000111010111101000010000100100011100111010000001001100010011101100100001010111100000000110011011000000000100010111010100011', '0111101100111101000001001001010001101100100110010100010110011000011110100100000101110000000110010100011100000000010011010110001', '1101110010000011101111010000010111000001001101100001101010001011010000100001000101011010000000100000001000110100000000010100010', '1110100110010101011110000110000100100101001011000000010011100100010000000010001000000000001010110001001000000100001001001100101', '0000011111111110010011000000101000001001110110100100000001101000111100000101111000010000001101111100011000100101011001011110010', '0010100001101011000110001000011001000101000010100101110100001001000000001111001000010000010100101001001000010110011000101000100']\n"
     ]
    }
   ],
   "source": [
    "# second job\n",
    "print(\n",
    "    \" > The first ten measurement results of job 2:\",\n",
    "    another_result[0].data.meas.get_bitstrings()[:10],\n",
    ")"
   ]
  },
  {
   "cell_type": "markdown",
   "id": "9484b7b7-e474-4291-b3ee-ace64f7cf126",
   "metadata": {},
   "source": [
    "## Next steps\n",
    "\n",
    "<Admonition type=\"tip\" title=\"Recommendations\">\n",
    "    - [Specify advanced runtime options.](runtime-options-overview)\n",
    "    - Practice with primitives by working through the [Cost function lesson](https://learning.quantum.ibm.com/course/variational-algorithm-design/cost-functions#primitives) in IBM Quantum Learning.\n",
    "    - Learn how to transpile locally in the [Transpile](./transpile/) section.\n",
    "    - Try the [Submit pre-transpiled circuits](https://learning.quantum.ibm.com/tutorial/submitting-user-transpiled-circuits-using-primitives) tutorial.\n",
    "    - Read [Migrate to V2 primitives](/migration-guides/v2-primitives).\n",
    "    - Understand the [Job limits](/guides/job-limits) when sending a job to an IBM&reg; QPU.\n",
    "</Admonition>"
   ]
  }
 ],
 "metadata": {
  "description": "Practical examples of using primitives in Qiskit Runtime.",
  "kernelspec": {
   "display_name": "Python 3",
   "language": "python",
   "name": "python3"
  },
  "language_info": {
   "codemirror_mode": {
    "name": "ipython",
    "version": 3
   },
   "file_extension": ".py",
   "mimetype": "text/x-python",
   "name": "python",
   "nbconvert_exporter": "python",
   "pygments_lexer": "ipython3",
   "version": "3"
  },
  "title": "Primitives examples"
 },
 "nbformat": 4,
 "nbformat_minor": 4
}
