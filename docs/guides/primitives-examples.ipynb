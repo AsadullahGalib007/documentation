{
 "cells": [
  {
   "cell_type": "markdown",
   "id": "1f4a2ec4-3595-4300-8f9e-092b0ef9b444",
   "metadata": {},
   "source": [
    "# Primitives examples\n",
    "\n",
    "<LegacyContent>\n",
    "<Admonition type=\"note\">\n",
    "This documentation is relevant to IBM Quantum&reg; Platform Classic. If you need the newer version, go to the new [IBM Quantum Platform documentation.](https://quantum.cloud.ibm.com/docs/guides/primitives-examples)\n",
    "</Admonition>\n",
    "</LegacyContent>\n",
    "<CloudContent>\n",
    "<Admonition type=\"note\">\n",
    "This documentation is relevant to the new IBM Quantum&reg; Platform. If you need the previous version, return to the [IBM Quantum Platform Classic documentation.](https://docs.quantum.ibm.com/guides/primitives-examples)\n",
    "</Admonition>\n",
    "</CloudContent>"
   ]
  },
  {
   "cell_type": "markdown",
   "id": "b4121e48",
   "metadata": {
    "tags": [
     "version-info"
    ]
   },
   "source": [
    "<details>\n",
    "<summary><b>Package versions</b></summary>\n",
    "\n",
    "The code on this page was developed using the following requirements.\n",
    "We recommend using these versions or newer.\n",
    "\n",
    "```\n",
    "qiskit[all]~=2.0.0\n",
    "qiskit-ibm-runtime~=0.37.0\n",
    "```\n",
    "</details>"
   ]
  },
  {
   "cell_type": "markdown",
   "id": "bae32e60",
   "metadata": {},
   "source": [
    "The examples in this section illustrate some common ways to use primitives. Before running these examples, follow the instructions in [Install and set up.](install-qiskit)\n",
    "\n",
    "<Admonition type=\"note\">\n",
    "    These examples all use the primitives from Qiskit Runtime, but you could use the base primitives instead.\n",
    "</Admonition>\n",
    "\n",
    "## Estimator examples\n",
    "\n",
    "Efficiently calculate and interpret expectation values of the quantum operators required for many algorithms with Estimator. Explore uses in molecular modeling, machine learning, and complex optimization problems.\n",
    "\n",
    "### Run a single experiment\n",
    "\n",
    "Use Estimator to determine the expectation value of a single circuit-observable pair."
   ]
  },
  {
   "cell_type": "code",
   "execution_count": 1,
   "id": "24573866-7cf2-40e1-b61c-a2bdcecb759b",
   "metadata": {},
   "outputs": [
    {
     "name": "stdout",
     "output_type": "stream",
     "text": [
      " > Expectation value: -0.01499531396438613\n",
      " > Metadata: {'shots': 4096, 'target_precision': 0.015625, 'circuit_metadata': {}, 'resilience': {}, 'num_randomizations': 32}\n"
     ]
    }
   ],
   "source": [
    "import numpy as np\n",
    "from qiskit.circuit.library import iqp\n",
    "from qiskit.transpiler import generate_preset_pass_manager\n",
    "from qiskit.quantum_info import SparsePauliOp, random_hermitian\n",
    "from qiskit_ibm_runtime import QiskitRuntimeService, EstimatorV2 as Estimator\n",
    "\n",
    "n_qubits = 50\n",
    "\n",
    "service = QiskitRuntimeService()\n",
    "backend = service.least_busy(\n",
    "    operational=True, simulator=False, min_num_qubits=n_qubits\n",
    ")\n",
    "\n",
    "mat = np.real(random_hermitian(n_qubits, seed=1234))\n",
    "circuit = iqp(mat)\n",
    "observable = SparsePauliOp(\"Z\" * 50)\n",
    "\n",
    "pm = generate_preset_pass_manager(backend=backend, optimization_level=1)\n",
    "isa_circuit = pm.run(circuit)\n",
    "isa_observable = observable.apply_layout(isa_circuit.layout)\n",
    "\n",
    "estimator = Estimator(mode=backend)\n",
    "job = estimator.run([(isa_circuit, isa_observable)])\n",
    "result = job.result()\n",
    "\n",
    "print(f\" > Expectation value: {result[0].data.evs}\")\n",
    "print(f\" > Metadata: {result[0].metadata}\")"
   ]
  },
  {
   "cell_type": "markdown",
   "id": "63769604-ec9e-4ff3-823d-e60f4eb8a877",
   "metadata": {},
   "source": [
    "### Run multiple experiments in a single job\n",
    "\n",
    "Use Estimator to determine the expectation values of multiple circuit-observable pairs."
   ]
  },
  {
   "cell_type": "code",
   "execution_count": 2,
   "id": "bf4668bd-aaaf-4b23-af4b-4df767bd6d1a",
   "metadata": {},
   "outputs": [
    {
     "name": "stdout",
     "output_type": "stream",
     "text": [
      ">>> Expectation values for PUB 0: 0.0\n",
      ">>> Standard errors for PUB 0: 0.1409463218030463\n",
      ">>> Expectation values for PUB 1: -0.08106666666666666\n",
      ">>> Standard errors for PUB 1: 0.12087165632665581\n",
      ">>> Expectation values for PUB 2: -0.1103086014445174\n",
      ">>> Standard errors for PUB 2: 0.15048697567550126\n"
     ]
    }
   ],
   "source": [
    "import numpy as np\n",
    "from qiskit.circuit.library import iqp\n",
    "from qiskit.transpiler import generate_preset_pass_manager\n",
    "from qiskit.quantum_info import SparsePauliOp, random_hermitian\n",
    "from qiskit_ibm_runtime import QiskitRuntimeService, EstimatorV2 as Estimator\n",
    "\n",
    "n_qubits = 50\n",
    "\n",
    "service = QiskitRuntimeService()\n",
    "backend = service.least_busy(\n",
    "    operational=True, simulator=False, min_num_qubits=n_qubits\n",
    ")\n",
    "\n",
    "rng = np.random.default_rng()\n",
    "mats = [np.real(random_hermitian(n_qubits, seed=rng)) for _ in range(3)]\n",
    "\n",
    "pubs = []\n",
    "circuits = [iqp(mat) for mat in mats]\n",
    "observables = [\n",
    "    SparsePauliOp(\"X\" * 50),\n",
    "    SparsePauliOp(\"Y\" * 50),\n",
    "    SparsePauliOp(\"Z\" * 50),\n",
    "]\n",
    "\n",
    "# Get ISA circuits\n",
    "pm = generate_preset_pass_manager(optimization_level=1, backend=backend)\n",
    "\n",
    "for qc, obs in zip(circuits, observables):\n",
    "    isa_circuit = pm.run(qc)\n",
    "    isa_obs = obs.apply_layout(isa_circuit.layout)\n",
    "    pubs.append((isa_circuit, isa_obs))\n",
    "\n",
    "estimator = Estimator(backend)\n",
    "job = estimator.run(pubs)\n",
    "job_result = job.result()\n",
    "\n",
    "for idx in range(len(pubs)):\n",
    "    pub_result = job_result[idx]\n",
    "    print(f\">>> Expectation values for PUB {idx}: {pub_result.data.evs}\")\n",
    "    print(f\">>> Standard errors for PUB {idx}: {pub_result.data.stds}\")"
   ]
  },
  {
   "cell_type": "markdown",
   "id": "60bf051a-40f8-47a9-b74d-38713bc15210",
   "metadata": {},
   "source": [
    "### Run parameterized circuits\n",
    "\n",
    "Use Estimator to run three experiments in a single job, leveraging parameter values to increase circuit reusability."
   ]
  },
  {
   "cell_type": "code",
   "execution_count": 3,
   "id": "67dc98b8-499c-44d9-ada1-6abc9d6198c0",
   "metadata": {},
   "outputs": [
    {
     "name": "stdout",
     "output_type": "stream",
     "text": [
      ">>> Expectation values: [[ 0.99258602  0.94057816  0.80870989  0.55680452  0.29158909 -0.0128171\n",
      "  -0.32905447 -0.58983321 -0.8242383  -0.93589499 -1.00367774 -0.9400852\n",
      "  -0.80895637 -0.5585299  -0.29183557 -0.00911986  0.30268081  0.57110052\n",
      "   0.80525913  0.95487416  0.9886423 ]\n",
      " [ 0.01971862  0.33225874  0.61522094  0.80378024  0.9600503   1.0029383\n",
      "   0.93688092  0.79934355  0.57750908  0.30539212 -0.03746538 -0.33768136\n",
      "  -0.5799739  -0.82029458 -0.95980382 -1.00047347 -0.95487416 -0.79120962\n",
      "  -0.56074825 -0.27384233  0.03228924]\n",
      " [-0.02390883 -0.33127281 -0.60215735 -0.80451968 -0.95561361 -0.99554381\n",
      "  -0.93244423 -0.7843081  -0.5757837  -0.28838481  0.02021159  0.31697681\n",
      "   0.59846011  0.81265362  0.96054326  0.97015609  0.94156409  0.78455458\n",
      "   0.58786135  0.29380743 -0.00123241]\n",
      " [ 0.98617747  0.93614147  0.79909706  0.55705101  0.28296219 -0.01971862\n",
      "  -0.31106123 -0.58662894 -0.79983651 -0.95314878 -0.99357195 -0.93835982\n",
      "  -0.79318148 -0.57553721 -0.28419461  0.02316938  0.32264592  0.59648825\n",
      "   0.81363955  0.94920506  0.99061416]]\n",
      ">>> Standard errors: [[0.00796562 0.00978736 0.00965702 0.01402631 0.01190881 0.01154935\n",
      "  0.01125742 0.01081717 0.00862591 0.00997156 0.00964439 0.00749795\n",
      "  0.01177462 0.00809627 0.0133611  0.01617656 0.01330916 0.00947122\n",
      "  0.00987256 0.00885191 0.007908  ]\n",
      " [0.01181602 0.01121034 0.01607924 0.01132125 0.00773947 0.00860869\n",
      "  0.01035631 0.01030022 0.01007932 0.01147139 0.01128011 0.01156861\n",
      "  0.00910138 0.00979444 0.00856405 0.00697391 0.00966557 0.0114118\n",
      "  0.01079594 0.01328996 0.01353186]\n",
      " [0.01486706 0.01579966 0.00999276 0.01087397 0.0076348  0.01023778\n",
      "  0.0084353  0.01215962 0.01208825 0.01247542 0.01262604 0.01030907\n",
      "  0.01147064 0.00902174 0.00811967 0.00689975 0.00769532 0.0103314\n",
      "  0.00813722 0.01059792 0.01297075]\n",
      " [0.00800903 0.00890556 0.01143653 0.0103321  0.00986104 0.00815296\n",
      "  0.01371767 0.01159263 0.0099483  0.01004916 0.00855854 0.00846554\n",
      "  0.00898016 0.00878775 0.01096008 0.01156111 0.01199716 0.01006996\n",
      "  0.0078696  0.00866989 0.00811101]]\n",
      ">>> Metadata: {'shots': 10016, 'target_precision': 0.01, 'circuit_metadata': {}, 'resilience': {}, 'num_randomizations': 32}\n"
     ]
    }
   ],
   "source": [
    "import numpy as np\n",
    "\n",
    "from qiskit.circuit import QuantumCircuit, Parameter\n",
    "from qiskit.quantum_info import SparsePauliOp\n",
    "from qiskit.transpiler import generate_preset_pass_manager\n",
    "from qiskit_ibm_runtime import QiskitRuntimeService, EstimatorV2 as Estimator\n",
    "\n",
    "service = QiskitRuntimeService()\n",
    "backend = service.least_busy(operational=True, simulator=False)\n",
    "\n",
    "# Step 1: Map classical inputs to a quantum problem\n",
    "theta = Parameter(\"θ\")\n",
    "\n",
    "chsh_circuit = QuantumCircuit(2)\n",
    "chsh_circuit.h(0)\n",
    "chsh_circuit.cx(0, 1)\n",
    "chsh_circuit.ry(theta, 0)\n",
    "\n",
    "number_of_phases = 21\n",
    "phases = np.linspace(0, 2 * np.pi, number_of_phases)\n",
    "individual_phases = [[ph] for ph in phases]\n",
    "\n",
    "ZZ = SparsePauliOp.from_list([(\"ZZ\", 1)])\n",
    "ZX = SparsePauliOp.from_list([(\"ZX\", 1)])\n",
    "XZ = SparsePauliOp.from_list([(\"XZ\", 1)])\n",
    "XX = SparsePauliOp.from_list([(\"XX\", 1)])\n",
    "ops = [ZZ, ZX, XZ, XX]\n",
    "\n",
    "# Step 2: Optimize problem for quantum execution.\n",
    "\n",
    "pm = generate_preset_pass_manager(backend=backend, optimization_level=1)\n",
    "chsh_isa_circuit = pm.run(chsh_circuit)\n",
    "isa_observables = [\n",
    "    operator.apply_layout(chsh_isa_circuit.layout) for operator in ops\n",
    "]\n",
    "\n",
    "# Step 3: Execute using Qiskit primitives.\n",
    "\n",
    "# Reshape observable array for broadcasting\n",
    "reshaped_ops = np.fromiter(isa_observables, dtype=object)\n",
    "reshaped_ops = reshaped_ops.reshape((4, 1))\n",
    "\n",
    "estimator = Estimator(backend, options={\"default_shots\": int(1e4)})\n",
    "job = estimator.run([(chsh_isa_circuit, reshaped_ops, individual_phases)])\n",
    "# Get results for the first (and only) PUB\n",
    "pub_result = job.result()[0]\n",
    "print(f\">>> Expectation values: {pub_result.data.evs}\")\n",
    "print(f\">>> Standard errors: {pub_result.data.stds}\")\n",
    "print(f\">>> Metadata: {pub_result.metadata}\")"
   ]
  },
  {
   "cell_type": "markdown",
   "id": "793f0ed1-5682-4aa3-a4a0-7baba71650f9",
   "metadata": {},
   "source": [
    "### Use sessions and advanced options\n",
    "\n",
    "Explore sessions and advanced options to optimize circuit performance on QPUs.\n",
    "\n",
    "<CloudContent>\n",
    "<Admonition type=\"caution\">\n",
    "The following code block will return an error for Open Plan users because it uses sessions. Open Plan workloads can run only in [job mode](/docs/guides/execution-modes#job-mode) or [batch mode](/docs/guides/execution-modes#batch-mode).\n",
    "</Admonition>\n",
    "</CloudContent>"
   ]
  },
  {
   "cell_type": "code",
   "execution_count": 4,
   "id": "d007b547-8546-4ca3-aee6-9a4e3a82598d",
   "metadata": {},
   "outputs": [
    {
     "name": "stdout",
     "output_type": "stream",
     "text": [
      " > Expectation value: 0.7108753315649867\n",
      " > Metadata: {'shots': 4096, 'target_precision': 0.015625, 'circuit_metadata': {}, 'resilience': {}, 'num_randomizations': 32}\n",
      " > Another Expectation value: -0.08340283569641367\n",
      " > More Metadata: {'shots': 4096, 'target_precision': 0.015625, 'circuit_metadata': {}, 'resilience': {}, 'num_randomizations': 32}\n"
     ]
    }
   ],
   "source": [
    "import numpy as np\n",
    "from qiskit.circuit.library import iqp\n",
    "from qiskit.transpiler import generate_preset_pass_manager\n",
    "from qiskit.quantum_info import SparsePauliOp, random_hermitian\n",
    "from qiskit_ibm_runtime import (\n",
    "    QiskitRuntimeService,\n",
    "    Session,\n",
    "    EstimatorV2 as Estimator,\n",
    ")\n",
    "\n",
    "n_qubits = 50\n",
    "\n",
    "service = QiskitRuntimeService()\n",
    "backend = service.least_busy(\n",
    "    operational=True, simulator=False, min_num_qubits=n_qubits\n",
    ")\n",
    "\n",
    "rng = np.random.default_rng(1234)\n",
    "mat = np.real(random_hermitian(n_qubits, seed=rng))\n",
    "circuit = iqp(mat)\n",
    "mat = np.real(random_hermitian(n_qubits, seed=rng))\n",
    "another_circuit = iqp(mat)\n",
    "observable = SparsePauliOp(\"X\" * 50)\n",
    "another_observable = SparsePauliOp(\"Y\" * 50)\n",
    "\n",
    "pm = generate_preset_pass_manager(optimization_level=1, backend=backend)\n",
    "isa_circuit = pm.run(circuit)\n",
    "another_isa_circuit = pm.run(another_circuit)\n",
    "isa_observable = observable.apply_layout(isa_circuit.layout)\n",
    "another_isa_observable = another_observable.apply_layout(\n",
    "    another_isa_circuit.layout\n",
    ")\n",
    "\n",
    "with Session(backend=backend) as session:\n",
    "    estimator = Estimator(mode=session)\n",
    "\n",
    "    estimator.options.resilience_level = 1\n",
    "\n",
    "    job = estimator.run([(isa_circuit, isa_observable)])\n",
    "    another_job = estimator.run(\n",
    "        [(another_isa_circuit, another_isa_observable)]\n",
    "    )\n",
    "    result = job.result()\n",
    "    another_result = another_job.result()\n",
    "\n",
    "    # first job\n",
    "    print(f\" > Expectation value: {result[0].data.evs}\")\n",
    "    print(f\" > Metadata: {result[0].metadata}\")\n",
    "\n",
    "    # second job\n",
    "    print(f\" > Another Expectation value: {another_result[0].data.evs}\")\n",
    "    print(f\" > More Metadata: {another_result[0].metadata}\")"
   ]
  },
  {
   "cell_type": "markdown",
   "id": "12aea3c7-37a1-4a6b-b944-587669aa6611",
   "metadata": {},
   "source": [
    "<span id=\"sampler-examples\"></span>\n",
    "## Sampler examples\n",
    "\n",
    "Generate entire error-mitigated quasi-probability distributions sampled from quantum circuit outputs. Leverage Sampler’s capabilities for search and classification algorithms like Grover’s and QVSM.\n",
    "\n",
    "### Run a single experiment\n",
    "\n",
    "Use Sampler to return the measurement outcome as bitstrings or counts of a single circuit."
   ]
  },
  {
   "cell_type": "code",
   "execution_count": 5,
   "id": "a5a561b3-3819-4f9e-bb64-4c27267e0e96",
   "metadata": {
    "scrolled": true
   },
   "outputs": [
    {
     "name": "stdout",
     "output_type": "stream",
     "text": [
      " > First ten results: ['1010101100110011110110001010100110010001100001111000001110111000110000000000101011010110001101100010011000001000001000101100011', '0010101100010001011101001111100011100001011000001010100001110100010011100001011001100111001101011000001010000011000111100100010', '0111101001011001010011011100100101000000000010010001101110110000000000011000100101010101010100011000001001000011010101000010101', '1100000000011000100011111011110100100011010000001000111111100000110011000000111011000010001000010000000010000010110001100010001', '0101100000011010001111000010000010000100010101100111111011100100000001000000111110011010000101111010001001000011100000000110010', '1100100010011000100001010000110110000001001001001010101000100010000100011000100001001100010101010100101000000011010100000010110', '1001000001000000011011110011010001000000100100001000111001110100000001000100101110001100011001010000000001001001110101100011111', '0110010001110000011000110111111110101000110110000000110101101010000000010111001011111010000101100010101011000001010001110000100', '0111010101001000100011101101010101101111101100100011101111010100000110010101111110011100010000011010011011000100010100010010110', '1101110011100001100100000000001101100010001010100101011111111011000010101000010100010001111101101010010000001010000000010110011']\n"
     ]
    }
   ],
   "source": [
    "import numpy as np\n",
    "from qiskit.circuit.library import iqp\n",
    "from qiskit.transpiler import generate_preset_pass_manager\n",
    "from qiskit.quantum_info import random_hermitian\n",
    "from qiskit_ibm_runtime import QiskitRuntimeService, SamplerV2 as Sampler\n",
    "\n",
    "n_qubits = 127\n",
    "\n",
    "service = QiskitRuntimeService()\n",
    "backend = service.least_busy(\n",
    "    operational=True, simulator=False, min_num_qubits=n_qubits\n",
    ")\n",
    "\n",
    "mat = np.real(random_hermitian(n_qubits, seed=1234))\n",
    "circuit = iqp(mat)\n",
    "circuit.measure_all()\n",
    "\n",
    "pm = generate_preset_pass_manager(backend=backend, optimization_level=1)\n",
    "isa_circuit = pm.run(circuit)\n",
    "\n",
    "sampler = Sampler(backend)\n",
    "job = sampler.run([isa_circuit])\n",
    "result = job.result()\n",
    "\n",
    "# Get results for the first (and only) PUB\n",
    "pub_result = result[0]\n",
    "\n",
    "print(f\" > First ten results: {pub_result.data.meas.get_bitstrings()[:10]}\")"
   ]
  },
  {
   "cell_type": "markdown",
   "id": "c9ea6d3c-b03f-49e2-a8de-d32e58396e02",
   "metadata": {},
   "source": [
    "### Run multiple experiments in a single job\n",
    "\n",
    "Use Sampler to return the measurement outcome as bitstrings or counts of multiple circuits in one job."
   ]
  },
  {
   "cell_type": "code",
   "execution_count": 6,
   "id": "e4534da8-9fe3-402b-8afc-f4bd9fbed497",
   "metadata": {},
   "outputs": [
    {
     "name": "stdout",
     "output_type": "stream",
     "text": [
      " > First ten results for pub 0: ['0100011000111000111000111001001100110001110101010011001010100001110111111001101110000101100010110100011000010000000001110000110', '0110011101001000100011111100001001000010101100000000001100011101011001011100100111010001100010110000000110011000000100010011011', '0110111010001101111010011001000000001110110100000010000100000000111001101110001110000101000010010110000001000001010100101101000', '0110111001101100001100001000010001000010000101010001011000001010010001110011101010000001100100011100000100101001000010100001110', '0110110111001101111011011000110011000000100111000000001100010110100001010101000000100010100000010001001101010011000111011010010', '0000110110010100011101001011010000000010100100001001101100000110010000010001000000000011101010011000011100010000000100001100100', '0011100011001011110011011110011011001111010001100000010000011000000011001001101101000010100001001000001001110001000001000101110', '0010111001011001100011111010110001011100011110100000001011110000100001000110001101010000100000010101000101100000100110000000011', '0110101011100101100010010100101100001001000101011000111000000111001010001000001001001000110111110001011100100010000000010101001', '0111000100010100100100100001000000010010000000000000100001010000001011010111000111011011010011111011000000000000000011001000001']\n",
      " > First ten results for pub 1: ['0000101110011100011000111100011001000001010110111000011010101111010100100111010000001000110010100000010001110110000010110001101', '0010001001101000110101111011010011000010001111111100111010101001011110000110101000101000100010100011000111111010000110011000001', '1010101100010010100000000010010010000011011100011100101011001001110001000101111001000000001100010011000011111110000100101000001', '0000000110011100110111110101010011101101100010011100010110101100010001010110000000000010100001110010010101111110010010001001011', '1011101111111000011001001101100101101100000111011101110001111110000010110011000001100000000100010010010001110000001010010100100', '1111011010000110101100101011011101100111011100000011111101011110000000100100101001011010010010000010000001010001000000011000010', '0010000101100100011111101100101001000011110111100010000111000111111001000000010101001000010001110011110110111000000100001000001', '1000000110110100110011001001101101000111000101111100011010110010000100001101010111000000000000000010010010001101100110000100011', '0001101100100000100110111010100101000110010001100000001001001011100101011101110110010000110100110000110111111000000110010000000', '0010111001110010110011111010111000000110010001000100000001011000100001110100101111101000101000010001000101100100110010110000000']\n",
      " > First ten results for pub 2: ['1101001101100001011110101010001110101110111001000010010100011001000011010111010110011100011111011110100100010111110100000110000', '0001000001000100110010101100100110010101011101100100001001001001000010000100010000100000001000011000110010110110011110000010101', '1010000001101011010100101010000010001111100010110001001001000100000000100100110011110010001000011001110010010110100101000001010', '0111000110110101010000000110000001101101001101110000100101100000011000001000010000100000000010000110010010110100011011000100100', '1100011010111111110000111100111010100001000101010011111000101111001011001010110000100000100010010000100010100110111111000111110', '0110001010011100100101110100111000011000001101100000011000001000000011000111000010100000010100010011010000100010110100000001101', '0110011000011100001011010011001100100111000000100000010110100000011101111111010001001000000110000110000010110010010101101001000', '1100000000000110100010000100101010111110011101010000110011000111001000001110010011000010100000010100000001111010001010000101100', '0111000111000010000001011010101001001011010001111010100110000110100001011101010000001101000110010001010011000110011010000000010', '1101100101010000100010000011000010100110010001100000000100101001000010001110100000110100100010000111010101010010011110000100000']\n"
     ]
    }
   ],
   "source": [
    "import numpy as np\n",
    "from qiskit.circuit.library import iqp\n",
    "from qiskit.transpiler import generate_preset_pass_manager\n",
    "from qiskit.quantum_info import random_hermitian\n",
    "from qiskit_ibm_runtime import QiskitRuntimeService, SamplerV2 as Sampler\n",
    "\n",
    "n_qubits = 127\n",
    "\n",
    "service = QiskitRuntimeService()\n",
    "backend = service.least_busy(\n",
    "    operational=True, simulator=False, min_num_qubits=n_qubits\n",
    ")\n",
    "\n",
    "rng = np.random.default_rng()\n",
    "mats = [np.real(random_hermitian(n_qubits, seed=rng)) for _ in range(3)]\n",
    "circuits = [iqp(mat) for mat in mats]\n",
    "for circuit in circuits:\n",
    "    circuit.measure_all()\n",
    "\n",
    "pm = generate_preset_pass_manager(backend=backend, optimization_level=1)\n",
    "isa_circuits = pm.run(circuits)\n",
    "\n",
    "sampler = Sampler(mode=backend)\n",
    "job = sampler.run(isa_circuits)\n",
    "result = job.result()\n",
    "\n",
    "for idx, pub_result in enumerate(result):\n",
    "    print(\n",
    "        f\" > First ten results for pub {idx}: {pub_result.data.meas.get_bitstrings()[:10]}\"\n",
    "    )"
   ]
  },
  {
   "cell_type": "markdown",
   "id": "e3ce4f13-b772-4ee6-ba9d-d98da633ab5c",
   "metadata": {},
   "source": [
    "### Run parameterized circuits\n",
    "\n",
    "Run several experiments in a single job, leveraging parameter values to increase circuit reusability."
   ]
  },
  {
   "cell_type": "code",
   "execution_count": 7,
   "id": "c63c9cb6-0650-433c-b3d6-dcde06e465e4",
   "metadata": {},
   "outputs": [
    {
     "name": "stdout",
     "output_type": "stream",
     "text": [
      " >> First ten results for the meas output register: ['0100001010001100101101100100110101110001111010010011001111010010111000011101001110100111101100000110000001101010100010100101001', '1010000001000101110011101111111111111010000011111001010000011010000101101111001011110011001110110000000000010010011110111010001', '1000010100000111101001000100110100000000110000011010000000011101111000000111010100000000000100101011010100111101000100011110001', '0001010100011111111001100101011010000001100100011101111111101100011000111011100100111110000011010010101111111010100010000111101', '0011101011011111111110010000000111100001000011000011000001101010011001110011101100100010000010110011110000001101011110101000110', '1000101011011011101010101101111010110001111111011101001011001001100010000110010110101010011001001101101110010010110011010100010', '1100011011010111101000000111111111101000100001010001010011011111010000000001111001001110001010110011111111010101111000010010100', '0110000011111110001111010101001110000000000000011001010100011000110001100011111011001100000010010001110011000100101011010001101', '0001001111010001101111100110111010010100111110010011101000111111001000101011110101100010110101101100001000001101110011001001111', '1010011011001111110001000110010011000000100100010101101000011100110001000110011010001001000011110101100101011100111010100000110']\n"
     ]
    }
   ],
   "source": [
    "import numpy as np\n",
    "from qiskit.circuit.library import real_amplitudes\n",
    "from qiskit.transpiler import generate_preset_pass_manager\n",
    "from qiskit_ibm_runtime import QiskitRuntimeService, SamplerV2 as Sampler\n",
    "\n",
    "n_qubits = 127\n",
    "\n",
    "service = QiskitRuntimeService()\n",
    "backend = service.least_busy(\n",
    "    operational=True, simulator=False, min_num_qubits=n_qubits\n",
    ")\n",
    "\n",
    "# Step 1: Map classical inputs to a quantum problem\n",
    "circuit = real_amplitudes(num_qubits=n_qubits, reps=2)\n",
    "circuit.measure_all()\n",
    "\n",
    "# Define three sets of parameters for the circuit\n",
    "rng = np.random.default_rng(1234)\n",
    "parameter_values = [\n",
    "    rng.uniform(-np.pi, np.pi, size=circuit.num_parameters) for _ in range(3)\n",
    "]\n",
    "\n",
    "# Step 2: Optimize problem for quantum execution.\n",
    "\n",
    "pm = generate_preset_pass_manager(backend=backend, optimization_level=1)\n",
    "isa_circuit = pm.run(circuit)\n",
    "\n",
    "# Step 3: Execute using Qiskit primitives.\n",
    "sampler = Sampler(backend)\n",
    "job = sampler.run([(isa_circuit, parameter_values)])\n",
    "result = job.result()\n",
    "# Get results for the first (and only) PUB\n",
    "pub_result = result[0]\n",
    "# Get counts from the classical register \"meas\".\n",
    "print(\n",
    "    f\" >> First ten results for the meas output register: {pub_result.data.meas.get_bitstrings()[:10]}\"\n",
    ")"
   ]
  },
  {
   "cell_type": "markdown",
   "id": "a8b00d2a-3c5d-4670-9774-d39cdb262552",
   "metadata": {},
   "source": [
    "### Use sessions and advanced options\n",
    "\n",
    "Explore sessions and advanced options to optimize circuit performance on QPUs.\n",
    "\n",
    "<CloudContent>\n",
    "<Admonition type=\"caution\">\n",
    "The following code block will return an error for users on the Open Plan, because it uses sessions. Workloads on the Open Plan can run only in [job mode](/docs/guides/execution-modes#job-mode) or [batch mode](/docs/guides/execution-modes#batch-mode).\n",
    "</Admonition>\n",
    "</CloudContent>"
   ]
  },
  {
   "cell_type": "code",
   "execution_count": 8,
   "id": "881fdac4-973b-4cef-a3da-c011d326ff54",
   "metadata": {
    "scrolled": true
   },
   "outputs": [
    {
     "name": "stdout",
     "output_type": "stream",
     "text": [
      " > The first ten measurement results of job 1: ['1110101110110000011111101000101000101010111001111000100000001000001010001001111000010111100011001010001000010110010110000101001', '0011110110001000011010101011100101011000101000111000010101111000000011101000001011010000001001101011000001000100011111001100101', '0101011101001011001110011010111001000010111001100101011011010011110010100010010110001111010000101100011110000000010101101111000', '0101011011110010000100001001100100011101110000101101100111001110011000101101001000101001000010010110000111100010111010000001001', '1001111001111001101000101111010001000011110110111000010110100001001101110100110000010010011001011100010101000100001101100111000', '0110111100100000000001010010010000010011100101100011001010011010111010001010000010010010100000111110011100100100111100000110001', '1001001100001110000110101001111100101110001000011101011011110000100101110111110000001111010101001011110110100010101010110100000', '0001011010001001111101110101110100011010011110011101100110000000000100110011011111000000010011010010001000010010001110000011001', '1110101101001100011111000110110001101010100111101001100100000000110101001011111000101000001001000110101100100100001001110101101', '0000011001110001111000001110100101001011011110010000000010001000100111101010101010000001111010000001011000100101101101001100000']\n"
     ]
    }
   ],
   "source": [
    "import numpy as np\n",
    "from qiskit.circuit.library import iqp\n",
    "from qiskit.quantum_info import random_hermitian\n",
    "from qiskit.transpiler import generate_preset_pass_manager\n",
    "from qiskit_ibm_runtime import Session, SamplerV2 as Sampler\n",
    "from qiskit_ibm_runtime import QiskitRuntimeService\n",
    "\n",
    "n_qubits = 127\n",
    "\n",
    "service = QiskitRuntimeService()\n",
    "backend = service.least_busy(\n",
    "    operational=True, simulator=False, min_num_qubits=n_qubits\n",
    ")\n",
    "\n",
    "rng = np.random.default_rng(1234)\n",
    "mat = np.real(random_hermitian(n_qubits, seed=rng))\n",
    "circuit = iqp(mat)\n",
    "circuit.measure_all()\n",
    "mat = np.real(random_hermitian(n_qubits, seed=rng))\n",
    "another_circuit = iqp(mat)\n",
    "another_circuit.measure_all()\n",
    "\n",
    "pm = generate_preset_pass_manager(backend=backend, optimization_level=1)\n",
    "isa_circuit = pm.run(circuit)\n",
    "another_isa_circuit = pm.run(another_circuit)\n",
    "\n",
    "with Session(backend=backend) as session:\n",
    "    sampler = Sampler(mode=session)\n",
    "    job = sampler.run([isa_circuit])\n",
    "    another_job = sampler.run([another_isa_circuit])\n",
    "    result = job.result()\n",
    "    another_result = another_job.result()\n",
    "\n",
    "# first job\n",
    "\n",
    "print(\n",
    "    f\" > The first ten measurement results of job 1: {result[0].data.meas.get_bitstrings()[:10]}\"\n",
    ")"
   ]
  },
  {
   "cell_type": "code",
   "execution_count": 9,
   "id": "40fe2a06-edfc-41a8-9054-7f31ab93a00c",
   "metadata": {},
   "outputs": [
    {
     "name": "stdout",
     "output_type": "stream",
     "text": [
      " > The first ten measurement results of job 2: ['1100100010001000100011010000101111101110101111100110000000100100011111010000010011100000110001100110101100011100010000000110001', '1101100011001001101010111000010110110001000010001111111000010000100100110100100110100000010001111011010000011100100010000100001', '0001000000101000111000100000010010001101101110100100100000010111000010011000000101001101101111000101101000011100010101000110001', '1010011010000101110100011111101101111101000100110100111111100101000100001000000011110010101100000001100001001011000111000010001', '1000111011111000000000010010000001111110001101000101100101001000101101100000100001100000011101110001111000100111010101110000001', '1111010001100110011110011110001110011000101101110100110001000000101000110000001011100110010001000100010001011000110111101101011', '0101100010010101001000101110110000001110100011011100010010011101000011011000000100110000110110000100111000100100010000010110000', '0101001000111101010001001100010100010001101000001100000011010000010010110001101100000110001000000001100000011101001010111110000', '0001110101010101110000011110011100110101001001000000011100001011010011010001001010011101011010101001101001010010100000010010000', '1111110011110111111010010000001110100001100011110000000001011010100010101010100110001000011001000010111001000101110001000110000']\n"
     ]
    }
   ],
   "source": [
    "# second job\n",
    "print(\n",
    "    \" > The first ten measurement results of job 2:\",\n",
    "    another_result[0].data.meas.get_bitstrings()[:10],\n",
    ")"
   ]
  },
  {
   "cell_type": "markdown",
   "id": "551e1894-a12a-4f6c-8347-020fdc9db74e",
   "metadata": {},
   "source": [
    "## Next steps\n",
    "\n",
    "<Admonition type=\"tip\" title=\"Recommendations\">\n",
    "    - [Specify advanced runtime options.](runtime-options-overview)\n",
    "    - Practice with primitives by working through the [Cost function lesson](https://learning.quantum.ibm.com/course/variational-algorithm-design/cost-functions#primitives) in IBM Quantum Learning.\n",
    "    - Learn how to transpile locally in the [Transpile](./transpile/) section.\n",
    "    - Try the [Submit pre-transpiled circuits](https://learning.quantum.ibm.com/tutorial/submitting-user-transpiled-circuits-using-primitives) tutorial.\n",
    "    - Read [Migrate to V2 primitives](/docs/migration-guides/v2-primitives).\n",
    "    - Understand the [Job limits](/docs/guides/job-limits) when sending a job to an IBM&reg; QPU.\n",
    "</Admonition>"
   ]
  }
 ],
 "metadata": {
  "description": "Practical examples of using primitives in Qiskit Runtime.",
  "kernelspec": {
   "display_name": "Python 3",
   "language": "python",
   "name": "python3"
  },
  "language_info": {
   "codemirror_mode": {
    "name": "ipython",
    "version": 3
   },
   "file_extension": ".py",
   "mimetype": "text/x-python",
   "name": "python",
   "nbconvert_exporter": "python",
   "pygments_lexer": "ipython3",
   "version": "3"
  },
  "title": "Primitives examples"
 },
 "nbformat": 4,
 "nbformat_minor": 4
}
