{
 "cells": [
  {
   "cell_type": "markdown",
   "id": "1f4a2ec4-3595-4300-8f9e-092b0ef9b444",
   "metadata": {},
   "source": [
    "# Primitives examples\n",
    "\n",
    "<LegacyContent>\n",
    "<Admonition type=\"note\">\n",
    "This documentation is relevant to IBM Quantum&reg; Platform Classic. If you need the newer version, go to the new [IBM Quantum Platform documentation.](https://quantum.cloud.ibm.com/docs/guides/primitives-examples)\n",
    "</Admonition>\n",
    "</LegacyContent>\n",
    "<CloudContent>\n",
    "<Admonition type=\"note\">\n",
    "This documentation is relevant to the new IBM Quantum&reg; Platform. If you need the previous version, return to the [IBM Quantum Platform Classic documentation.](https://docs.quantum.ibm.com/guides/primitives-examples)\n",
    "</Admonition>\n",
    "</CloudContent>\n",
    "\n",
    "The examples in this section illustrate some common ways to use primitives. Before running these examples, follow the instructions in [Install and set up.](install-qiskit)\n",
    "\n",
    "<Admonition type=\"note\">\n",
    "    These examples all use the primitives from Qiskit Runtime, but you could use the base primitives instead.\n",
    "</Admonition>\n",
    "\n",
    "## Estimator examples\n",
    "\n",
    "Efficiently calculate and interpret expectation values of the quantum operators required for many algorithms with Estimator. Explore uses in molecular modeling, machine learning, and complex optimization problems.\n",
    "\n",
    "### Run a single experiment\n",
    "\n",
    "Use Estimator to determine the expectation value of a single circuit-observable pair."
   ]
  },
  {
   "cell_type": "code",
   "execution_count": 1,
   "id": "24573866-7cf2-40e1-b61c-a2bdcecb759b",
   "metadata": {},
   "outputs": [
    {
     "name": "stdout",
     "output_type": "stream",
     "text": [
      " > Expectation value: 0.10248198558847077\n",
      " > Metadata: {'shots': 4096, 'target_precision': 0.015625, 'circuit_metadata': {}, 'resilience': {}, 'num_randomizations': 32}\n"
     ]
    }
   ],
   "source": [
    "import numpy as np\n",
    "from qiskit.circuit.library import iqp\n",
    "from qiskit.transpiler import generate_preset_pass_manager\n",
    "from qiskit.quantum_info import SparsePauliOp, random_hermitian\n",
    "from qiskit_ibm_runtime import QiskitRuntimeService, EstimatorV2 as Estimator\n",
    "\n",
    "n_qubits = 50\n",
    "\n",
    "service = QiskitRuntimeService()\n",
    "backend = service.least_busy(\n",
    "    operational=True, simulator=False, min_num_qubits=n_qubits\n",
    ")\n",
    "\n",
    "mat = np.real(random_hermitian(n_qubits, seed=1234))\n",
    "circuit = iqp(mat)\n",
    "observable = SparsePauliOp(\"Z\" * 50)\n",
    "\n",
    "pm = generate_preset_pass_manager(backend=backend, optimization_level=1)\n",
    "isa_circuit = pm.run(circuit)\n",
    "isa_observable = observable.apply_layout(isa_circuit.layout)\n",
    "\n",
    "estimator = Estimator(mode=backend)\n",
    "job = estimator.run([(isa_circuit, isa_observable)])\n",
    "result = job.result()\n",
    "\n",
    "print(f\" > Expectation value: {result[0].data.evs}\")\n",
    "print(f\" > Metadata: {result[0].metadata}\")"
   ]
  },
  {
   "cell_type": "markdown",
   "id": "63769604-ec9e-4ff3-823d-e60f4eb8a877",
   "metadata": {},
   "source": [
    "### Run multiple experiments in a single job\n",
    "\n",
    "Use Estimator to determine the expectation values of multiple circuit-observable pairs."
   ]
  },
  {
   "cell_type": "code",
   "execution_count": 2,
   "id": "bf4668bd-aaaf-4b23-af4b-4df767bd6d1a",
   "metadata": {},
   "outputs": [
    {
     "name": "stdout",
     "output_type": "stream",
     "text": [
      ">>> Expectation values for PUB 0: 0.23395896988214754\n",
      ">>> Standard errors for PUB 0: 0.10817012139750506\n",
      ">>> Expectation values for PUB 1: -0.08799617407938785\n",
      ">>> Standard errors for PUB 1: 0.1220368976594496\n",
      ">>> Expectation values for PUB 2: 0.09072164948453608\n",
      ">>> Standard errors for PUB 2: 0.15560734574170013\n"
     ]
    }
   ],
   "source": [
    "import numpy as np\n",
    "from qiskit.circuit.library import iqp\n",
    "from qiskit.transpiler import generate_preset_pass_manager\n",
    "from qiskit.quantum_info import SparsePauliOp, random_hermitian\n",
    "from qiskit_ibm_runtime import QiskitRuntimeService, EstimatorV2 as Estimator\n",
    "\n",
    "n_qubits = 50\n",
    "\n",
    "service = QiskitRuntimeService()\n",
    "backend = service.least_busy(\n",
    "    operational=True, simulator=False, min_num_qubits=n_qubits\n",
    ")\n",
    "\n",
    "rng = np.random.default_rng()\n",
    "mats = [np.real(random_hermitian(n_qubits, seed=rng)) for _ in range(3)]\n",
    "\n",
    "pubs = []\n",
    "circuits = [iqp(mat) for mat in mats]\n",
    "observables = [\n",
    "    SparsePauliOp(\"X\" * 50),\n",
    "    SparsePauliOp(\"Y\" * 50),\n",
    "    SparsePauliOp(\"Z\" * 50),\n",
    "]\n",
    "\n",
    "# Get ISA circuits\n",
    "pm = generate_preset_pass_manager(optimization_level=1, backend=backend)\n",
    "\n",
    "for qc, obs in zip(circuits, observables):\n",
    "    isa_circuit = pm.run(qc)\n",
    "    isa_obs = obs.apply_layout(isa_circuit.layout)\n",
    "    pubs.append((isa_circuit, isa_obs))\n",
    "\n",
    "estimator = Estimator(backend)\n",
    "job = estimator.run(pubs)\n",
    "job_result = job.result()\n",
    "\n",
    "for idx in range(len(pubs)):\n",
    "    pub_result = job_result[idx]\n",
    "    print(f\">>> Expectation values for PUB {idx}: {pub_result.data.evs}\")\n",
    "    print(f\">>> Standard errors for PUB {idx}: {pub_result.data.stds}\")"
   ]
  },
  {
   "cell_type": "markdown",
   "id": "60bf051a-40f8-47a9-b74d-38713bc15210",
   "metadata": {},
   "source": [
    "### Run parameterized circuits\n",
    "\n",
    "Use Estimator to run three experiments in a single job, leveraging parameter values to increase circuit reusability."
   ]
  },
  {
   "cell_type": "code",
   "execution_count": 3,
   "id": "67dc98b8-499c-44d9-ada1-6abc9d6198c0",
   "metadata": {},
   "outputs": [
    {
     "name": "stdout",
     "output_type": "stream",
     "text": [
      ">>> Expectation values: [[ 1.01572317  0.94991253  0.80366668  0.57538604  0.29934699 -0.02536452\n",
      "  -0.32768212 -0.5918387  -0.83771454 -0.97047836 -1.01458062 -0.95973843\n",
      "  -0.80640879 -0.58292684 -0.30574524  0.03221979  0.32356896  0.59092466\n",
      "   0.83017374  0.96225203  1.01366659]\n",
      " [ 0.03199128  0.33316634  0.60554925  0.81623468  0.96293756  1.0138951\n",
      "   0.96042396  0.80389519  0.59572335  0.31442859 -0.01919477 -0.31031543\n",
      "  -0.60097906 -0.82583207 -0.96065247 -1.00635429 -0.96590818 -0.80686581\n",
      "  -0.58041324 -0.28106625  0.01393906]\n",
      " [-0.05118605 -0.34299223 -0.6044067  -0.85096807 -0.9789332  -1.02692012\n",
      "  -0.96865029 -0.82834567 -0.60235012 -0.30643077 -0.00639826  0.33179529\n",
      "   0.61606067  0.84571236  0.98190382  1.02075037  0.97230643  0.80435221\n",
      "   0.57035884  0.29569084 -0.00411316]\n",
      " [ 1.02234994  0.96865029  0.83725752  0.58749702  0.3046027  -0.0223939\n",
      "  -0.32402597 -0.62382998 -0.83794305 -0.98441742 -1.03491794 -0.96453712\n",
      "  -0.81440661 -0.60235012 -0.31031543  0.03153426  0.33065274  0.64096816\n",
      "   0.83200181  0.97801916  1.01846528]]\n",
      ">>> Standard errors: [[0.00592536 0.00691211 0.00811958 0.0087037  0.01069386 0.01223129\n",
      "  0.01083987 0.00963879 0.00896983 0.0071749  0.00573669 0.00683492\n",
      "  0.00791293 0.01093256 0.01079519 0.01050373 0.00983637 0.01113395\n",
      "  0.00883143 0.00711781 0.00695141]\n",
      " [0.01120787 0.00996038 0.01051446 0.01010116 0.00612579 0.00610689\n",
      "  0.00666651 0.0088525  0.00968723 0.0119436  0.01314586 0.01187214\n",
      "  0.00862974 0.00838126 0.00648934 0.00532356 0.00616776 0.00676331\n",
      "  0.00873866 0.01323415 0.00998602]\n",
      " [0.01103601 0.01256386 0.00942809 0.00800932 0.00606689 0.00719962\n",
      "  0.00545912 0.00903586 0.01116928 0.0126337  0.01154708 0.01460568\n",
      "  0.01029223 0.00778151 0.00723302 0.00580451 0.00624556 0.00781977\n",
      "  0.01091322 0.0115746  0.01456713]\n",
      " [0.00548418 0.0068657  0.00860129 0.00873333 0.01086562 0.01018332\n",
      "  0.00969986 0.01158271 0.00673139 0.00672781 0.00618566 0.00626654\n",
      "  0.00830061 0.00818544 0.00911548 0.01196362 0.01011202 0.01066077\n",
      "  0.00675444 0.00739421 0.00605938]]\n",
      ">>> Metadata: {'shots': 10016, 'target_precision': 0.01, 'circuit_metadata': {}, 'resilience': {}, 'num_randomizations': 32}\n"
     ]
    }
   ],
   "source": [
    "import numpy as np\n",
    "\n",
    "from qiskit.circuit import QuantumCircuit, Parameter\n",
    "from qiskit.quantum_info import SparsePauliOp\n",
    "from qiskit.transpiler import generate_preset_pass_manager\n",
    "from qiskit_ibm_runtime import QiskitRuntimeService, EstimatorV2 as Estimator\n",
    "\n",
    "service = QiskitRuntimeService()\n",
    "backend = service.least_busy(operational=True, simulator=False)\n",
    "\n",
    "# Step 1: Map classical inputs to a quantum problem\n",
    "theta = Parameter(\"θ\")\n",
    "\n",
    "chsh_circuit = QuantumCircuit(2)\n",
    "chsh_circuit.h(0)\n",
    "chsh_circuit.cx(0, 1)\n",
    "chsh_circuit.ry(theta, 0)\n",
    "\n",
    "number_of_phases = 21\n",
    "phases = np.linspace(0, 2 * np.pi, number_of_phases)\n",
    "individual_phases = [[ph] for ph in phases]\n",
    "\n",
    "ZZ = SparsePauliOp.from_list([(\"ZZ\", 1)])\n",
    "ZX = SparsePauliOp.from_list([(\"ZX\", 1)])\n",
    "XZ = SparsePauliOp.from_list([(\"XZ\", 1)])\n",
    "XX = SparsePauliOp.from_list([(\"XX\", 1)])\n",
    "ops = [ZZ, ZX, XZ, XX]\n",
    "\n",
    "# Step 2: Optimize problem for quantum execution.\n",
    "\n",
    "pm = generate_preset_pass_manager(backend=backend, optimization_level=1)\n",
    "chsh_isa_circuit = pm.run(chsh_circuit)\n",
    "isa_observables = [\n",
    "    operator.apply_layout(chsh_isa_circuit.layout) for operator in ops\n",
    "]\n",
    "\n",
    "# Step 3: Execute using Qiskit primitives.\n",
    "\n",
    "# Reshape observable array for broadcasting\n",
    "reshaped_ops = np.fromiter(isa_observables, dtype=object)\n",
    "reshaped_ops = reshaped_ops.reshape((4, 1))\n",
    "\n",
    "estimator = Estimator(backend, options={\"default_shots\": int(1e4)})\n",
    "job = estimator.run([(chsh_isa_circuit, reshaped_ops, individual_phases)])\n",
    "# Get results for the first (and only) PUB\n",
    "pub_result = job.result()[0]\n",
    "print(f\">>> Expectation values: {pub_result.data.evs}\")\n",
    "print(f\">>> Standard errors: {pub_result.data.stds}\")\n",
    "print(f\">>> Metadata: {pub_result.metadata}\")"
   ]
  },
  {
   "cell_type": "markdown",
   "id": "793f0ed1-5682-4aa3-a4a0-7baba71650f9",
   "metadata": {},
   "source": [
    "### Use sessions and advanced options\n",
    "\n",
    "Explore sessions and advanced options to optimize circuit performance on QPUs.\n",
    "\n",
    "<CloudContent>\n",
    "<Admonition type=\"caution\">\n",
    "The following code block will return an error for Open Plan users because it uses sessions. Open Plan workloads can run only in [job mode](/guides/execution-modes#job-mode) or [batch mode](/guides/execution-modes#batch-mode).\n",
    "</Admonition>\n",
    "</CloudContent>"
   ]
  },
  {
   "cell_type": "code",
   "execution_count": 4,
   "id": "d007b547-8546-4ca3-aee6-9a4e3a82598d",
   "metadata": {},
   "outputs": [
    {
     "name": "stdout",
     "output_type": "stream",
     "text": [
      " > Expectation value: 0.07523510971786834\n",
      " > Metadata: {'shots': 4096, 'target_precision': 0.015625, 'circuit_metadata': {}, 'resilience': {}, 'num_randomizations': 32}\n",
      " > Another Expectation value: -1.5353535353535352\n",
      " > More Metadata: {'shots': 4096, 'target_precision': 0.015625, 'circuit_metadata': {}, 'resilience': {}, 'num_randomizations': 32}\n"
     ]
    }
   ],
   "source": [
    "import numpy as np\n",
    "from qiskit.circuit.library import iqp\n",
    "from qiskit.transpiler import generate_preset_pass_manager\n",
    "from qiskit.quantum_info import SparsePauliOp, random_hermitian\n",
    "from qiskit_ibm_runtime import (\n",
    "    QiskitRuntimeService,\n",
    "    Session,\n",
    "    EstimatorV2 as Estimator,\n",
    ")\n",
    "\n",
    "n_qubits = 50\n",
    "\n",
    "service = QiskitRuntimeService()\n",
    "backend = service.least_busy(\n",
    "    operational=True, simulator=False, min_num_qubits=n_qubits\n",
    ")\n",
    "\n",
    "rng = np.random.default_rng(1234)\n",
    "mat = np.real(random_hermitian(n_qubits, seed=rng))\n",
    "circuit = iqp(mat)\n",
    "mat = np.real(random_hermitian(n_qubits, seed=rng))\n",
    "another_circuit = iqp(mat)\n",
    "observable = SparsePauliOp(\"X\" * 50)\n",
    "another_observable = SparsePauliOp(\"Y\" * 50)\n",
    "\n",
    "pm = generate_preset_pass_manager(optimization_level=1, backend=backend)\n",
    "isa_circuit = pm.run(circuit)\n",
    "another_isa_circuit = pm.run(another_circuit)\n",
    "isa_observable = observable.apply_layout(isa_circuit.layout)\n",
    "another_isa_observable = another_observable.apply_layout(\n",
    "    another_isa_circuit.layout\n",
    ")\n",
    "\n",
    "with Session(backend=backend) as session:\n",
    "    estimator = Estimator(mode=session)\n",
    "\n",
    "    estimator.options.resilience_level = 1\n",
    "\n",
    "    job = estimator.run([(isa_circuit, isa_observable)])\n",
    "    another_job = estimator.run(\n",
    "        [(another_isa_circuit, another_isa_observable)]\n",
    "    )\n",
    "    result = job.result()\n",
    "    another_result = another_job.result()\n",
    "\n",
    "    # first job\n",
    "    print(f\" > Expectation value: {result[0].data.evs}\")\n",
    "    print(f\" > Metadata: {result[0].metadata}\")\n",
    "\n",
    "    # second job\n",
    "    print(f\" > Another Expectation value: {another_result[0].data.evs}\")\n",
    "    print(f\" > More Metadata: {another_result[0].metadata}\")"
   ]
  },
  {
   "cell_type": "markdown",
   "id": "12aea3c7-37a1-4a6b-b944-587669aa6611",
   "metadata": {},
   "source": [
    "<span id=\"sampler-examples\"></span>\n",
    "## Sampler examples\n",
    "\n",
    "Generate entire error-mitigated quasi-probability distributions sampled from quantum circuit outputs. Leverage Sampler’s capabilities for search and classification algorithms like Grover’s and QVSM.\n",
    "\n",
    "### Run a single experiment\n",
    "\n",
    "Use Sampler to return the measurement outcome as bitstrings or counts of a single circuit."
   ]
  },
  {
   "cell_type": "code",
   "execution_count": 5,
   "id": "a5a561b3-3819-4f9e-bb64-4c27267e0e96",
   "metadata": {
    "scrolled": true
   },
   "outputs": [
    {
     "name": "stdout",
     "output_type": "stream",
     "text": [
      " > First ten results: ['1101100100011001101110111100001111110011011010110011011010000001110000010100010110000100000010110001100001111101100010111001000', '0010000110011101001000110010010101011110001010110010000001100011010001000001110010100000001010010000110001100100101011001000011', '0011010001111010101010001100010000001000011001000001110100100000011100010001100101100111001010011111011100100100100000110010000', '1100001011000000000101001011100000111011011010110011010110001010100001011011000010111110100011110000010001001000000000111011000', '1010101100100110000110001010010101100100000010010001010101000111000000110111100010101010100000001001010001000000101100100001011', '1010100111011001000000011000010000101011111101110010111011001001010011100101010101001000100010010011100000101101001011110010001', '0010101000010101011101010011011010110101110000111100000100001000011001100110011111101001000000000100000001001101101010111001000', '0101110001011001010001000011000001011101110011111101000010111110101001010111010010101001101010011101000001101111000000010011101', '1101111111100000011110101000100110110101000110100011111101101011100001000001010101111101000010000010110101110010101000100000000', '1001001000100100101001110000010100101110111111011010001011100001111000010010110111101010001000000001100001101101100110001001000']\n"
     ]
    }
   ],
   "source": [
    "import numpy as np\n",
    "from qiskit.circuit.library import iqp\n",
    "from qiskit.transpiler import generate_preset_pass_manager\n",
    "from qiskit.quantum_info import random_hermitian\n",
    "from qiskit_ibm_runtime import QiskitRuntimeService, SamplerV2 as Sampler\n",
    "\n",
    "n_qubits = 127\n",
    "\n",
    "service = QiskitRuntimeService()\n",
    "backend = service.least_busy(\n",
    "    operational=True, simulator=False, min_num_qubits=n_qubits\n",
    ")\n",
    "\n",
    "mat = np.real(random_hermitian(n_qubits, seed=1234))\n",
    "circuit = iqp(mat)\n",
    "circuit.measure_all()\n",
    "\n",
    "pm = generate_preset_pass_manager(backend=backend, optimization_level=1)\n",
    "isa_circuit = pm.run(circuit)\n",
    "\n",
    "sampler = Sampler(backend)\n",
    "job = sampler.run([isa_circuit])\n",
    "result = job.result()\n",
    "\n",
    "# Get results for the first (and only) PUB\n",
    "pub_result = result[0]\n",
    "\n",
    "print(f\" > First ten results: {pub_result.data.meas.get_bitstrings()[:10]}\")"
   ]
  },
  {
   "cell_type": "markdown",
   "id": "c9ea6d3c-b03f-49e2-a8de-d32e58396e02",
   "metadata": {},
   "source": [
    "### Run multiple experiments in a single job\n",
    "\n",
    "Use Sampler to return the measurement outcome as bitstrings or counts of multiple circuits in one job."
   ]
  },
  {
   "cell_type": "code",
   "execution_count": 6,
   "id": "e4534da8-9fe3-402b-8afc-f4bd9fbed497",
   "metadata": {},
   "outputs": [
    {
     "name": "stdout",
     "output_type": "stream",
     "text": [
      " > First ten results for pub 0: ['1111101100010110010001001110101010001011011110111111100111110010000110000000100010000100001110000100010010011110011000100011010', '0001010010000000001000111000001010110010100001111110110100101100101000100011001001000000101100100010101100111101110010000111001', '1010001010110110011010110010001001000101000001011001001010100100110110111000010001011010001100101100000110110010010010100100101', '1000011000000111010001001100010011010011010011101000100001010101010110100111001101000111000011101000111001110010000010100101101', '1100111001000110111001101001101000010010000111001001011111101110010100010010010100000110100110101000010000010001110110000010000', '0111000000111001100101111110111011010011000001010110101010001010010000100110010010001000010010010011011001100001000110000000100', '0111111100001111111000010101101111101010010011101011010111000011111010111111111001001100100011100010001001111001010101011010110', '0101100111001000001010100001101100011011110110011100110100101110000000011001010010000110101001001100111000101010010010100001111', '1100000000100111011100101001011001101010010011110011010001001010001011101000001010010010001010111011111000010111000000000101101', '1000101001010011001110111000000010010111110010100000010000011100001100011000000000010100001001000010101000101111100000011001000']\n",
      " > First ten results for pub 1: ['1101001100001000101010100010001100000101100010000111010100000110100111010111010100110010011100011101110010110100110100011000111', '1001001001001101010101010101000010011110001100100100010100010100010111100001110010001011111011101001000001101000011011110011001', '1001000101011001001011110110010010101100111010001110010101001000111010001011101101110001000110001110101100111100010001111100001', '0000001111110100101110001101100011011111110101111001001100100110001011000011001100000011111101001100101000100011111101000010011', '0110011010000100110000000101000111001110000100011010001100100000101101001100001100111110100100101100001100011011111111011011011', '0101111111110111010100100110110100001100010011111110000010000000001010001000001000010100111010100100000000010000111101100000001', '1000110100100110101101100000101101010000001001000100010000000001010001001111100110000110111000000001111010101111111001110011100', '1001001101010110000011100110001000001100100110111000010100100011100011111000011010110010000010011001110000111100100110111100001', '0110101100101011001000100010110001101111011101000101010011001100001101110110110001010010111011101101010000110010110110000010111', '1011111011000101010101010001011110011100001101100111010000000100000111101101001011011010101100100100001000110001000000101001011']\n",
      " > First ten results for pub 2: ['0010000001101101111001011010111000011000101100111010101111100111100000110001010100011100110101001011000001000000111110110101110', '0001111001011111111001110111100011110101010011100100000110011011001100000011001111010111000100000101001001000011100111001110110', '1001110110101010100000100000001101111101100001011000011110111000000100111100011011111101100001000100000100010010001110001100000', '0000010110111000101011001101000001110001000111001011000110000111001000110101101010000111101011000010011000100100111000001001110', '0011110101110001000100011111001011001000100000010000001010100101110011110000001000011000010001011100010110000101110000100010000', '1001000100010101111101100101111100100000100101001111111100000011000110000111101010110001001100000001011000011010101111011001101', '1001010100110111111100101101000101100101110101111001101100010000100010111000110010010010010000011010011101000100100000010010000', '1100100110000010100100101011111000101010110100010001010000100111000000100000011010100011001001011001010111100001100101000010110', '0101011001110010000011001101000101110000100010011000000101100010101110110010001100011101110010000100011010010000010011000010000', '0010101010111000001000101000000101111000100001100011100001100101010010111011001110101010100011010101000000111001000011010011000']\n"
     ]
    }
   ],
   "source": [
    "import numpy as np\n",
    "from qiskit.circuit.library import iqp\n",
    "from qiskit.transpiler import generate_preset_pass_manager\n",
    "from qiskit.quantum_info import random_hermitian\n",
    "from qiskit_ibm_runtime import QiskitRuntimeService, SamplerV2 as Sampler\n",
    "\n",
    "n_qubits = 127\n",
    "\n",
    "service = QiskitRuntimeService()\n",
    "backend = service.least_busy(\n",
    "    operational=True, simulator=False, min_num_qubits=n_qubits\n",
    ")\n",
    "\n",
    "rng = np.random.default_rng()\n",
    "mats = [np.real(random_hermitian(n_qubits, seed=rng)) for _ in range(3)]\n",
    "circuits = [iqp(mat) for mat in mats]\n",
    "for circuit in circuits:\n",
    "    circuit.measure_all()\n",
    "\n",
    "pm = generate_preset_pass_manager(backend=backend, optimization_level=1)\n",
    "isa_circuits = pm.run(circuits)\n",
    "\n",
    "sampler = Sampler(mode=backend)\n",
    "job = sampler.run(isa_circuits)\n",
    "result = job.result()\n",
    "\n",
    "for idx, pub_result in enumerate(result):\n",
    "    print(\n",
    "        f\" > First ten results for pub {idx}: {pub_result.data.meas.get_bitstrings()[:10]}\"\n",
    "    )"
   ]
  },
  {
   "cell_type": "markdown",
   "id": "e3ce4f13-b772-4ee6-ba9d-d98da633ab5c",
   "metadata": {},
   "source": [
    "### Run parameterized circuits\n",
    "\n",
    "Run several experiments in a single job, leveraging parameter values to increase circuit reusability."
   ]
  },
  {
   "cell_type": "code",
   "execution_count": 7,
   "id": "c63c9cb6-0650-433c-b3d6-dcde06e465e4",
   "metadata": {},
   "outputs": [
    {
     "name": "stdout",
     "output_type": "stream",
     "text": [
      " >> First ten results for the meas output register: ['1001000101000011101001001100000100010011100000111001101101111010111110001010010000110010100101110100000010011010100001110100010', '1001101100011001100000000100010101110010001110101111101000011110000101111111111000011010100011010100110001111011000101011000011', '0001010001111101110000000100111001101000001000101010101110011001111000001111111011100100100110111011111010001101001110000100001', '1111010000010001100010001001011101000000100010000110101010111110100101100110111000011111110111110110101110100001000111111111101', '0100110000111100110011010100100011000101101010100011001001001101000011100000110010001100111001110000111000111011111001010001101', '0001100100110101100100000100111110000001100010001110101010101110010011000100001000001100000001001010100010101000011011101101111', '1101000000001111101010001001110101110001101000010011101010011011100000100101110100101010110101100010111000011000011110100000101', '0001101101100111110010000100000111100110111110100101000000111111100000101111111111011000000111011010111100111100001011101100011', '0011010000001001100111001100011000000010001001110111000110001100010010001100110000001010010011100001101011101000110100010100111', '0011000011111011010010000100111111101001101010011010101010001111001001100111001001000001010111110101000111110000001111110000111']\n"
     ]
    }
   ],
   "source": [
    "import numpy as np\n",
    "from qiskit.circuit.library import real_amplitudes\n",
    "from qiskit.transpiler import generate_preset_pass_manager\n",
    "from qiskit_ibm_runtime import QiskitRuntimeService, SamplerV2 as Sampler\n",
    "\n",
    "n_qubits = 127\n",
    "\n",
    "service = QiskitRuntimeService()\n",
    "backend = service.least_busy(\n",
    "    operational=True, simulator=False, min_num_qubits=n_qubits\n",
    ")\n",
    "\n",
    "# Step 1: Map classical inputs to a quantum problem\n",
    "circuit = real_amplitudes(num_qubits=n_qubits, reps=2)\n",
    "circuit.measure_all()\n",
    "\n",
    "# Define three sets of parameters for the circuit\n",
    "rng = np.random.default_rng(1234)\n",
    "parameter_values = [\n",
    "    rng.uniform(-np.pi, np.pi, size=circuit.num_parameters) for _ in range(3)\n",
    "]\n",
    "\n",
    "# Step 2: Optimize problem for quantum execution.\n",
    "\n",
    "pm = generate_preset_pass_manager(backend=backend, optimization_level=1)\n",
    "isa_circuit = pm.run(circuit)\n",
    "\n",
    "# Step 3: Execute using Qiskit primitives.\n",
    "sampler = Sampler(backend)\n",
    "job = sampler.run([(isa_circuit, parameter_values)])\n",
    "result = job.result()\n",
    "# Get results for the first (and only) PUB\n",
    "pub_result = result[0]\n",
    "# Get counts from the classical register \"meas\".\n",
    "print(\n",
    "    f\" >> First ten results for the meas output register: {pub_result.data.meas.get_bitstrings()[:10]}\"\n",
    ")"
   ]
  },
  {
   "cell_type": "markdown",
   "id": "a8b00d2a-3c5d-4670-9774-d39cdb262552",
   "metadata": {},
   "source": [
    "### Use sessions and advanced options\n",
    "\n",
    "Explore sessions and advanced options to optimize circuit performance on QPUs.\n",
    "\n",
    "<CloudContent>\n",
    "<Admonition type=\"caution\">\n",
    "The following code block will return an error for users on the Open Plan, because it uses sessions. Workloads on the Open Plan can run only in [job mode](/guides/execution-modes#job-mode) or [batch mode](/guides/execution-modes#batch-mode).\n",
    "</Admonition>\n",
    "</CloudContent>"
   ]
  },
  {
   "cell_type": "code",
   "execution_count": 8,
   "id": "881fdac4-973b-4cef-a3da-c011d326ff54",
   "metadata": {
    "scrolled": true
   },
   "outputs": [
    {
     "name": "stdout",
     "output_type": "stream",
     "text": [
      " > The first ten measurement results of job 1: ['1100101101000010100110111100011000111110011011001101000111000101001110001000100100100001001100000110000101100101010101010000000', '0101000000101101110001000101011101001100101001010001100101010001011000010011000001101100101000110100110110000001010100000100000', '1010001111000000010110110001000001111100101011000001110001001100000110110001011100110000111000110000101010101001010100010000000', '0101110100011110100111001101001000011011001110010101111000001101000000101101001000010011010100001100101111001001000011000000100', '1111000011000111100110010000101011010010111001100011000011100010011100011000010010100100111000100110000000000101010001100000101', '0010011011111010000110111001000110101110000110110100110001000001000000001110101001000100011101100110011110001100010010010100100', '1000101001110010110010000011110000111100001011010011100101010110000000110110101101000101000000100100001001111100000000100100000', '0001001111011100001001011011101100110110001000010011100101011100000110011001001010101101101100000110100111100001000110000100011', '0010101100010000111011100101011100010001011001000010010111000101111000100011110110010000000110100000100101101100000111010110000', '0000100111011001001100001111010000101010000111101000000011110010000010100001101000011101110100000000100111100100000001101000000']\n"
     ]
    }
   ],
   "source": [
    "import numpy as np\n",
    "from qiskit.circuit.library import iqp\n",
    "from qiskit.quantum_info import random_hermitian\n",
    "from qiskit.transpiler import generate_preset_pass_manager\n",
    "from qiskit_ibm_runtime import Session, SamplerV2 as Sampler\n",
    "from qiskit_ibm_runtime import QiskitRuntimeService\n",
    "\n",
    "n_qubits = 127\n",
    "\n",
    "service = QiskitRuntimeService()\n",
    "backend = service.least_busy(\n",
    "    operational=True, simulator=False, min_num_qubits=n_qubits\n",
    ")\n",
    "\n",
    "rng = np.random.default_rng(1234)\n",
    "mat = np.real(random_hermitian(n_qubits, seed=rng))\n",
    "circuit = iqp(mat)\n",
    "circuit.measure_all()\n",
    "mat = np.real(random_hermitian(n_qubits, seed=rng))\n",
    "another_circuit = iqp(mat)\n",
    "another_circuit.measure_all()\n",
    "\n",
    "pm = generate_preset_pass_manager(backend=backend, optimization_level=1)\n",
    "isa_circuit = pm.run(circuit)\n",
    "another_isa_circuit = pm.run(another_circuit)\n",
    "\n",
    "with Session(backend=backend) as session:\n",
    "    sampler = Sampler(mode=session)\n",
    "    job = sampler.run([isa_circuit])\n",
    "    another_job = sampler.run([another_isa_circuit])\n",
    "    result = job.result()\n",
    "    another_result = another_job.result()\n",
    "\n",
    "# first job\n",
    "\n",
    "print(\n",
    "    f\" > The first ten measurement results of job 1: {result[0].data.meas.get_bitstrings()[:10]}\"\n",
    ")"
   ]
  },
  {
   "cell_type": "code",
   "execution_count": 9,
   "id": "40fe2a06-edfc-41a8-9054-7f31ab93a00c",
   "metadata": {},
   "outputs": [
    {
     "name": "stdout",
     "output_type": "stream",
     "text": [
      " > The first ten measurement results of job 2: ['0001000101101100001110001010110101000011101100000100011101100000101011000101011111001001110100010110101000111000011110010000001', '1110101101101101101100100001101101011001000010011000000010010100101111010101100000010111011101110110001001000001111111000001100', '0001010001101000011111110111001000101000001110110001000101000010001011010010001101110110010010101010101110011100010000110011000', '0101001001001111011101101110100011001100100110100000110111100010000001011001000110100101101001010000101010001001111111000010110', '0110000000010011010110111010000000000010101110111100111010010010000011010011101011010011101010010010100001101011101100000000101', '0011100111000011110111101001011001001011011100100001101111110010010011111011010100110101110000100111010000110010001010000101100', '0011101101111111010010011101000101000000001110001010010010110000100010011110100001000010110011100011011000000010100011100011100', '1001110110110000111110011011101100000100110100010100101111110100100110000001000110010010000010011100000010001001011011010101100', '1100100000101010001111000011001101010010111001000110111111000010001101000111100001011110101010010010101100010010111010010010100', '1101011110101000100110100000000101100110001100010001100000000010101001011010100001011001001010010110110101101000101100110110100']\n"
     ]
    }
   ],
   "source": [
    "# second job\n",
    "print(\n",
    "    \" > The first ten measurement results of job 2:\",\n",
    "    another_result[0].data.meas.get_bitstrings()[:10],\n",
    ")"
   ]
  },
  {
   "cell_type": "markdown",
   "id": "551e1894-a12a-4f6c-8347-020fdc9db74e",
   "metadata": {},
   "source": [
    "## Next steps\n",
    "\n",
    "<Admonition type=\"tip\" title=\"Recommendations\">\n",
    "    - [Specify advanced runtime options.](runtime-options-overview)\n",
    "    - Practice with primitives by working through the [Cost function lesson](https://learning.quantum.ibm.com/course/variational-algorithm-design/cost-functions#primitives) in IBM Quantum Learning.\n",
    "    - Learn how to transpile locally in the [Transpile](./transpile/) section.\n",
    "    - Try the [Submit pre-transpiled circuits](https://learning.quantum.ibm.com/tutorial/submitting-user-transpiled-circuits-using-primitives) tutorial.\n",
    "    - Read [Migrate to V2 primitives](/migration-guides/v2-primitives).\n",
    "    - Understand the [Job limits](/guides/job-limits) when sending a job to an IBM&reg; QPU.\n",
    "</Admonition>"
   ]
  }
 ],
 "metadata": {
  "description": "Practical examples of using primitives in Qiskit Runtime.",
  "kernelspec": {
   "display_name": "Python 3",
   "language": "python",
   "name": "python3"
  },
  "language_info": {
   "codemirror_mode": {
    "name": "ipython",
    "version": 3
   },
   "file_extension": ".py",
   "mimetype": "text/x-python",
   "name": "python",
   "nbconvert_exporter": "python",
   "pygments_lexer": "ipython3",
   "version": "3"
  },
  "title": "Primitives examples"
 },
 "nbformat": 4,
 "nbformat_minor": 4
}
